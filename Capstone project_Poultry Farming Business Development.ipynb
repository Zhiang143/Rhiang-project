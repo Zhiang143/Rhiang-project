{
 "cells": [
  {
   "cell_type": "markdown",
   "id": "582ac2a2-165b-4ce5-bc9f-910e23fa65e8",
   "metadata": {},
   "source": [
    "## Poultry Farming Business Development.\n",
    "\n",
    "This project is developed using the CRISP-DM methology consisting of :\r\n",
    "1. Business Understanding\r\n",
    "2. Data Understanding\r\n",
    "3. Data Preparation\r\n",
    "4. Modelling\r\n",
    "5. Evaluation and\r\n",
    "6. Data Presentation.\n"
   ]
  },
  {
   "cell_type": "markdown",
   "id": "6aa16958-e7dd-4332-aa0c-35a7c79fe5d2",
   "metadata": {},
   "source": [
    "### Business Problem Understanding:\n",
    "Poultry meat are these days the easiest sources to get high quality proteins, minerals and vitamins to balance the human diet. \n",
    "Specially developed breeds both broiler and layer are now available with an ability of quick grown and high feed conversion efficiency.\n",
    "\n",
    "The Indian Poultry Industry is the 2nd largest in the market, especially the broiler industry segment growing at 8-12% every year. Depending on the farm size poultry farming can be main source of family income or can provide subsidiary income and gainful employment to farmers throughout the years.\n",
    "\n",
    "\n",
    "But to make poultry farming efficient and more profitable the industries want to have automated monitoring system to get idea on the risks involved in the business. The mortality and feeding process increase the risk in poultry industry to very high level.\n",
    "\n",
    "This project will allow this business with some best models to go ahead to achieve better results."
   ]
  },
  {
   "cell_type": "code",
   "execution_count": 287,
   "id": "3c3e54e6-bee8-4ddc-a9dd-736315776f41",
   "metadata": {},
   "outputs": [],
   "source": [
    "# import important functions\n",
    "import numpy as np\n",
    "import pandas as pd\n",
    "import matplotlib.pyplot as plt\n",
    "import seaborn as sns\n",
    "import warnings\n",
    "warnings.filterwarnings('ignore')"
   ]
  },
  {
   "cell_type": "code",
   "execution_count": 288,
   "id": "894853f3-4c22-4e68-aad8-1cc9b5cba157",
   "metadata": {},
   "outputs": [
    {
     "data": {
      "text/html": [
       "<div>\n",
       "<style scoped>\n",
       "    .dataframe tbody tr th:only-of-type {\n",
       "        vertical-align: middle;\n",
       "    }\n",
       "\n",
       "    .dataframe tbody tr th {\n",
       "        vertical-align: top;\n",
       "    }\n",
       "\n",
       "    .dataframe thead th {\n",
       "        text-align: right;\n",
       "    }\n",
       "</style>\n",
       "<table border=\"1\" class=\"dataframe\">\n",
       "  <thead>\n",
       "    <tr style=\"text-align: right;\">\n",
       "      <th></th>\n",
       "      <th>Sale ID</th>\n",
       "      <th>Gender</th>\n",
       "      <th>Age (months)</th>\n",
       "      <th>Vaccine status</th>\n",
       "      <th>Weight(kg)</th>\n",
       "      <th>Death Rate(%)</th>\n",
       "      <th>Sale (in lakhs)</th>\n",
       "      <th>Profit (%)</th>\n",
       "      <th>Risk (%)</th>\n",
       "      <th>Collection_Amount (in lakhs)</th>\n",
       "      <th>Reload_History (per month)</th>\n",
       "      <th>Sale_Area</th>\n",
       "      <th>Next load_Status</th>\n",
       "    </tr>\n",
       "  </thead>\n",
       "  <tbody>\n",
       "    <tr>\n",
       "      <th>0</th>\n",
       "      <td>SL001086</td>\n",
       "      <td>Male Bird</td>\n",
       "      <td>5</td>\n",
       "      <td>Yes</td>\n",
       "      <td>5.00</td>\n",
       "      <td>12.0</td>\n",
       "      <td>98.00</td>\n",
       "      <td>90</td>\n",
       "      <td>100</td>\n",
       "      <td>14.80</td>\n",
       "      <td>1</td>\n",
       "      <td>Urban</td>\n",
       "      <td>N</td>\n",
       "    </tr>\n",
       "    <tr>\n",
       "      <th>1</th>\n",
       "      <td>SL001087</td>\n",
       "      <td>Female Bird</td>\n",
       "      <td>4</td>\n",
       "      <td>Yes</td>\n",
       "      <td>0.25</td>\n",
       "      <td>15.0</td>\n",
       "      <td>2.75</td>\n",
       "      <td>86</td>\n",
       "      <td>100</td>\n",
       "      <td>2.63</td>\n",
       "      <td>1</td>\n",
       "      <td>Semiurban</td>\n",
       "      <td>Y</td>\n",
       "    </tr>\n",
       "    <tr>\n",
       "      <th>2</th>\n",
       "      <td>SL001091</td>\n",
       "      <td>Male Bird</td>\n",
       "      <td>1</td>\n",
       "      <td>Yes</td>\n",
       "      <td>0.25</td>\n",
       "      <td>15.9</td>\n",
       "      <td>2.75</td>\n",
       "      <td>86</td>\n",
       "      <td>100</td>\n",
       "      <td>2.63</td>\n",
       "      <td>1</td>\n",
       "      <td>Urban</td>\n",
       "      <td>N</td>\n",
       "    </tr>\n",
       "    <tr>\n",
       "      <th>3</th>\n",
       "      <td>SL001095</td>\n",
       "      <td>Male Bird</td>\n",
       "      <td>0</td>\n",
       "      <td>Yes</td>\n",
       "      <td>0.25</td>\n",
       "      <td>15.0</td>\n",
       "      <td>2.75</td>\n",
       "      <td>86</td>\n",
       "      <td>100</td>\n",
       "      <td>2.63</td>\n",
       "      <td>1</td>\n",
       "      <td>Urban</td>\n",
       "      <td>N</td>\n",
       "    </tr>\n",
       "    <tr>\n",
       "      <th>4</th>\n",
       "      <td>SL001002</td>\n",
       "      <td>Female Bird</td>\n",
       "      <td>3</td>\n",
       "      <td>Yes</td>\n",
       "      <td>0.58</td>\n",
       "      <td>15.0</td>\n",
       "      <td>2.75</td>\n",
       "      <td>90</td>\n",
       "      <td>100</td>\n",
       "      <td>2.63</td>\n",
       "      <td>1</td>\n",
       "      <td>Urban</td>\n",
       "      <td>Y</td>\n",
       "    </tr>\n",
       "  </tbody>\n",
       "</table>\n",
       "</div>"
      ],
      "text/plain": [
       "   Sale ID        Gender Age (months) Vaccine status  Weight(kg)  \\\n",
       "0  SL001086    Male Bird            5            Yes        5.00   \n",
       "1  SL001087  Female Bird            4            Yes        0.25   \n",
       "2  SL001091    Male Bird            1            Yes        0.25   \n",
       "3  SL001095    Male Bird            0            Yes        0.25   \n",
       "4  SL001002  Female Bird            3            Yes        0.58   \n",
       "\n",
       "   Death Rate(%)   Sale (in lakhs)  Profit (%)  Risk (%)  \\\n",
       "0            12.0            98.00          90       100   \n",
       "1            15.0             2.75          86       100   \n",
       "2            15.9             2.75          86       100   \n",
       "3            15.0             2.75          86       100   \n",
       "4            15.0             2.75          90       100   \n",
       "\n",
       "   Collection_Amount (in lakhs)  Reload_History (per month)  Sale_Area  \\\n",
       "0                         14.80                           1      Urban   \n",
       "1                          2.63                           1  Semiurban   \n",
       "2                          2.63                           1      Urban   \n",
       "3                          2.63                           1      Urban   \n",
       "4                          2.63                           1      Urban   \n",
       "\n",
       "  Next load_Status  \n",
       "0                N  \n",
       "1                Y  \n",
       "2                N  \n",
       "3                N  \n",
       "4                Y  "
      ]
     },
     "execution_count": 288,
     "metadata": {},
     "output_type": "execute_result"
    }
   ],
   "source": [
    "# Load data\n",
    "data = pd.read_csv('Poultry_Data.csv')\n",
    "data.head()"
   ]
  },
  {
   "cell_type": "code",
   "execution_count": 289,
   "id": "f766d4f7-f8c4-4898-bb6d-5919aab3a8b1",
   "metadata": {},
   "outputs": [
    {
     "name": "stdout",
     "output_type": "stream",
     "text": [
      "<class 'pandas.core.frame.DataFrame'>\n",
      "RangeIndex: 615 entries, 0 to 614\n",
      "Data columns (total 13 columns):\n",
      " #   Column                        Non-Null Count  Dtype  \n",
      "---  ------                        --------------  -----  \n",
      " 0   Sale ID                       615 non-null    object \n",
      " 1   Gender                        615 non-null    object \n",
      " 2   Age (months)                  615 non-null    object \n",
      " 3   Vaccine status                615 non-null    object \n",
      " 4   Weight(kg)                    615 non-null    float64\n",
      " 5   Death Rate(%)                 615 non-null    float64\n",
      " 6   Sale (in lakhs)               615 non-null    float64\n",
      " 7   Profit (%)                    615 non-null    int64  \n",
      " 8   Risk (%)                      615 non-null    int64  \n",
      " 9   Collection_Amount (in lakhs)  615 non-null    float64\n",
      " 10  Reload_History (per month)    615 non-null    int64  \n",
      " 11  Sale_Area                     615 non-null    object \n",
      " 12  Next load_Status              615 non-null    object \n",
      "dtypes: float64(4), int64(3), object(6)\n",
      "memory usage: 62.6+ KB\n"
     ]
    }
   ],
   "source": [
    "# check data size and column names\n",
    "data.info()"
   ]
  },
  {
   "cell_type": "code",
   "execution_count": 290,
   "id": "1c042e0c-e0dc-466e-9214-2ba39b0618b2",
   "metadata": {},
   "outputs": [
    {
     "data": {
      "text/plain": [
       "Index(['Sale ID ', 'Gender', 'Age (months)', 'Vaccine status', 'Weight(kg)',\n",
       "       'Death Rate(%) ', 'Sale (in lakhs)', 'Profit (%)', 'Risk (%)',\n",
       "       'Collection_Amount (in lakhs)', 'Reload_History (per month)',\n",
       "       'Sale_Area', 'Next load_Status'],\n",
       "      dtype='object')"
      ]
     },
     "execution_count": 290,
     "metadata": {},
     "output_type": "execute_result"
    }
   ],
   "source": [
    "# Check column names in the dataset\n",
    "data.columns"
   ]
  },
  {
   "cell_type": "markdown",
   "id": "c66eb05c-ea5e-487a-9489-3b828faf0230",
   "metadata": {},
   "source": [
    "### Data Understanding:\n",
    "* Sale ID : Unique Sale ID\n",
    "* Gender: Male/Female\n",
    "* Age (months): Age of the Birds\n",
    "* Vaccine status: Birds vaccinated status\n",
    "* Weight(kg): Birds weight\n",
    "* Death Rate (%): Birds Mortality Rate\n",
    "* Sale (in lakhs): Birds sale percent\n",
    "* Profit (%):Profit gained from the Birds\n",
    "* Risk (%):Risk involved in bringing up the birds\n",
    "* Collection_Amount (in lakhs): Amount made from the Birds\n",
    "* Reload_History (per month): Birds re- purchased history\n",
    "* Sale_Area: Rural/Semi-Urban/urban\n",
    "* Next load_Status: Birds plan to reload in next batches status(N/Y).\n"
   ]
  },
  {
   "cell_type": "code",
   "execution_count": 291,
   "id": "f8dbd741-5411-41b1-846d-e84cd7c4927e",
   "metadata": {
    "scrolled": true
   },
   "outputs": [
    {
     "data": {
      "text/plain": [
       "615"
      ]
     },
     "execution_count": 291,
     "metadata": {},
     "output_type": "execute_result"
    }
   ],
   "source": [
    "# Check the toatl unique sale ids\n",
    "data['Sale ID '].nunique()"
   ]
  },
  {
   "cell_type": "code",
   "execution_count": 292,
   "id": "c2df3f0e-98b1-4520-bf22-4944d4e5505f",
   "metadata": {},
   "outputs": [],
   "source": [
    "# dropping the unique sale ids\n",
    "data.drop(columns=['Sale ID '],inplace=True)"
   ]
  },
  {
   "cell_type": "code",
   "execution_count": 293,
   "id": "289c004c-eafb-490e-9865-95b345d3e70e",
   "metadata": {},
   "outputs": [
    {
     "data": {
      "text/plain": [
       "Index(['Gender', 'Age (months)', 'Vaccine status', 'Weight(kg)',\n",
       "       'Death Rate(%) ', 'Sale (in lakhs)', 'Profit (%)', 'Risk (%)',\n",
       "       'Collection_Amount (in lakhs)', 'Reload_History (per month)',\n",
       "       'Sale_Area', 'Next load_Status'],\n",
       "      dtype='object')"
      ]
     },
     "execution_count": 293,
     "metadata": {},
     "output_type": "execute_result"
    }
   ],
   "source": [
    "data.columns"
   ]
  },
  {
   "cell_type": "code",
   "execution_count": 294,
   "id": "f910c6d9-681f-48cf-b09b-01485e0020bf",
   "metadata": {},
   "outputs": [
    {
     "data": {
      "text/plain": [
       "array(['Male Bird', 'Female Bird'], dtype=object)"
      ]
     },
     "execution_count": 294,
     "metadata": {},
     "output_type": "execute_result"
    }
   ],
   "source": [
    "# Check the gender types\n",
    "data['Gender'].unique()"
   ]
  },
  {
   "cell_type": "code",
   "execution_count": 295,
   "id": "b3d7ce5b-d9e9-4de9-a622-91d2da515b2c",
   "metadata": {},
   "outputs": [
    {
     "data": {
      "text/plain": [
       "Gender\n",
       "Male Bird      487\n",
       "Female Bird    128\n",
       "Name: count, dtype: int64"
      ]
     },
     "execution_count": 295,
     "metadata": {},
     "output_type": "execute_result"
    }
   ],
   "source": [
    "# Check the count of each gender types -\n",
    "data['Gender'].value_counts()"
   ]
  },
  {
   "cell_type": "code",
   "execution_count": 296,
   "id": "feb24b75-ad9b-4b4d-8ccb-7bbbae8539e0",
   "metadata": {},
   "outputs": [
    {
     "data": {
      "text/plain": [
       "array(['5', '4', '1', '0', '3', '12', '4+', '2', '11', '10', '9', '6',\n",
       "       '7', '8', '14'], dtype=object)"
      ]
     },
     "execution_count": 296,
     "metadata": {},
     "output_type": "execute_result"
    }
   ],
   "source": [
    "# Check the age of the birds\n",
    "data['Age (months)'].unique()"
   ]
  },
  {
   "cell_type": "code",
   "execution_count": 297,
   "id": "9b59523c-a4fe-45dc-a63c-1d6045b88a85",
   "metadata": {},
   "outputs": [
    {
     "data": {
      "text/plain": [
       "Age (months)\n",
       "0     149\n",
       "1     109\n",
       "4      64\n",
       "3      46\n",
       "7      44\n",
       "8      44\n",
       "2      41\n",
       "5      37\n",
       "9      37\n",
       "6      22\n",
       "11     13\n",
       "10      4\n",
       "4+      3\n",
       "12      1\n",
       "14      1\n",
       "Name: count, dtype: int64"
      ]
     },
     "execution_count": 297,
     "metadata": {},
     "output_type": "execute_result"
    }
   ],
   "source": [
    "#check the counts based on the ages \n",
    "data['Age (months)'].value_counts()"
   ]
  },
  {
   "cell_type": "code",
   "execution_count": 298,
   "id": "1978e42f-feed-4a24-a626-4b5ea38eb317",
   "metadata": {},
   "outputs": [
    {
     "data": {
      "text/plain": [
       "array(['Yes', 'No'], dtype=object)"
      ]
     },
     "execution_count": 298,
     "metadata": {},
     "output_type": "execute_result"
    }
   ],
   "source": [
    "data['Vaccine status'].unique()"
   ]
  },
  {
   "cell_type": "code",
   "execution_count": 299,
   "id": "5978d699-f6bf-44e1-851c-a2232e1570e5",
   "metadata": {},
   "outputs": [
    {
     "data": {
      "text/plain": [
       "Vaccine status\n",
       "Yes    391\n",
       "No     224\n",
       "Name: count, dtype: int64"
      ]
     },
     "execution_count": 299,
     "metadata": {},
     "output_type": "execute_result"
    }
   ],
   "source": [
    "data['Vaccine status'].value_counts()"
   ]
  },
  {
   "cell_type": "code",
   "execution_count": 300,
   "id": "18c9eb26-d52c-4a0b-a442-6a8132936283",
   "metadata": {},
   "outputs": [
    {
     "data": {
      "text/plain": [
       "array([5.   , 0.25 , 0.58 , 4.56 , 0.35 , 0.3  , 0.23 , 0.26 , 1.25 ,\n",
       "       0.28 , 3.65 , 1.53 , 6.   , 9.   , 2.   , 0.98 , 0.965, 1.65 ,\n",
       "       1.9  , 0.21 , 4.   , 1.96 , 2.3  , 6.25 , 8.96 , 3.36 , 2.39 ,\n",
       "       1.12 , 0.78 , 1.99 , 0.287, 1.897, 0.214, 3.89 , 2.2  , 0.32 ,\n",
       "       1.98 ])"
      ]
     },
     "execution_count": 300,
     "metadata": {},
     "output_type": "execute_result"
    }
   ],
   "source": [
    "data['Weight(kg)'].unique()"
   ]
  },
  {
   "cell_type": "code",
   "execution_count": 301,
   "id": "5557ba35-85a4-4179-8386-bba0448468c7",
   "metadata": {},
   "outputs": [
    {
     "data": {
      "text/plain": [
       "Weight(kg)\n",
       "0.214    103\n",
       "0.780     76\n",
       "0.210     51\n",
       "0.287     50\n",
       "8.960     34\n",
       "9.000     28\n",
       "3.360     25\n",
       "1.990     24\n",
       "1.897     21\n",
       "5.000     20\n",
       "0.250     18\n",
       "2.200     15\n",
       "0.980     13\n",
       "0.320     13\n",
       "2.390     12\n",
       "3.890     11\n",
       "0.350     11\n",
       "0.965     10\n",
       "3.650     10\n",
       "0.280      9\n",
       "1.900      8\n",
       "1.530      8\n",
       "0.580      7\n",
       "4.560      6\n",
       "1.980      6\n",
       "2.300      5\n",
       "1.250      5\n",
       "2.000      4\n",
       "1.120      4\n",
       "1.960      1\n",
       "6.250      1\n",
       "4.000      1\n",
       "1.650      1\n",
       "6.000      1\n",
       "0.260      1\n",
       "0.230      1\n",
       "0.300      1\n",
       "Name: count, dtype: int64"
      ]
     },
     "execution_count": 301,
     "metadata": {},
     "output_type": "execute_result"
    }
   ],
   "source": [
    "data['Weight(kg)'].value_counts()"
   ]
  },
  {
   "cell_type": "code",
   "execution_count": 302,
   "id": "6f8caca8-aff4-4fda-bc4a-cace87768a68",
   "metadata": {},
   "outputs": [
    {
     "data": {
      "text/plain": [
       "array([12.  , 15.  , 15.9 ,  2.  ,  2.56,  6.  , 10.  ])"
      ]
     },
     "execution_count": 302,
     "metadata": {},
     "output_type": "execute_result"
    }
   ],
   "source": [
    "data['Death Rate(%) '].unique()"
   ]
  },
  {
   "cell_type": "code",
   "execution_count": 303,
   "id": "61faf7aa-0949-48a2-bc85-f6bb60f4182c",
   "metadata": {},
   "outputs": [
    {
     "data": {
      "text/plain": [
       "Death Rate(%) \n",
       "15.00    347\n",
       "12.00    166\n",
       "6.00      85\n",
       "2.00      14\n",
       "15.90      1\n",
       "2.56       1\n",
       "10.00      1\n",
       "Name: count, dtype: int64"
      ]
     },
     "execution_count": 303,
     "metadata": {},
     "output_type": "execute_result"
    }
   ],
   "source": [
    "data['Death Rate(%) '].value_counts()"
   ]
  },
  {
   "cell_type": "code",
   "execution_count": 304,
   "id": "a1f447c3-2e57-438e-9bb5-d12287b788aa",
   "metadata": {},
   "outputs": [
    {
     "data": {
      "text/plain": [
       "array([98.  ,  2.75, 69.  , 93.  , 89.  ])"
      ]
     },
     "execution_count": 304,
     "metadata": {},
     "output_type": "execute_result"
    }
   ],
   "source": [
    "data['Sale (in lakhs)'].unique()"
   ]
  },
  {
   "cell_type": "code",
   "execution_count": 305,
   "id": "c5682a7f-5644-4281-a397-31346a4228f1",
   "metadata": {},
   "outputs": [
    {
     "data": {
      "text/plain": [
       "Sale (in lakhs)\n",
       "2.75     348\n",
       "98.00    210\n",
       "93.00     41\n",
       "69.00     15\n",
       "89.00      1\n",
       "Name: count, dtype: int64"
      ]
     },
     "execution_count": 305,
     "metadata": {},
     "output_type": "execute_result"
    }
   ],
   "source": [
    "data['Sale (in lakhs)'].value_counts()"
   ]
  },
  {
   "cell_type": "code",
   "execution_count": 306,
   "id": "7777dd3f-7672-4bb8-91fa-b6866adb184b",
   "metadata": {},
   "outputs": [
    {
     "data": {
      "text/plain": [
       "array([14.8 ,  2.63,  4.8 ,  2.35,  0.85])"
      ]
     },
     "execution_count": 306,
     "metadata": {},
     "output_type": "execute_result"
    }
   ],
   "source": [
    "data['Collection_Amount (in lakhs)'].unique()"
   ]
  },
  {
   "cell_type": "code",
   "execution_count": 307,
   "id": "b0237f04-da93-48f1-9841-671aca16dc76",
   "metadata": {},
   "outputs": [
    {
     "data": {
      "text/plain": [
       "Collection_Amount (in lakhs)\n",
       "2.63     367\n",
       "4.80     217\n",
       "2.35      25\n",
       "0.85       5\n",
       "14.80      1\n",
       "Name: count, dtype: int64"
      ]
     },
     "execution_count": 307,
     "metadata": {},
     "output_type": "execute_result"
    }
   ],
   "source": [
    "data['Collection_Amount (in lakhs)'].value_counts()"
   ]
  },
  {
   "cell_type": "code",
   "execution_count": 308,
   "id": "282c608f-f730-4bd5-b1be-e3638f80016c",
   "metadata": {},
   "outputs": [
    {
     "data": {
      "text/plain": [
       "array([1, 0], dtype=int64)"
      ]
     },
     "execution_count": 308,
     "metadata": {},
     "output_type": "execute_result"
    }
   ],
   "source": [
    "data['Reload_History (per month)'].unique()"
   ]
  },
  {
   "cell_type": "code",
   "execution_count": 309,
   "id": "5404cb9c-be44-4a8d-8611-0eb35dfdb7a8",
   "metadata": {},
   "outputs": [
    {
     "data": {
      "text/plain": [
       "Reload_History (per month)\n",
       "1    526\n",
       "0     89\n",
       "Name: count, dtype: int64"
      ]
     },
     "execution_count": 309,
     "metadata": {},
     "output_type": "execute_result"
    }
   ],
   "source": [
    "data['Reload_History (per month)'].value_counts()"
   ]
  },
  {
   "cell_type": "code",
   "execution_count": 310,
   "id": "6f654f84-af78-4d9d-b498-3cd4a4789797",
   "metadata": {},
   "outputs": [
    {
     "data": {
      "text/plain": [
       "array(['Urban', 'Semiurban', 'Rural'], dtype=object)"
      ]
     },
     "execution_count": 310,
     "metadata": {},
     "output_type": "execute_result"
    }
   ],
   "source": [
    "data['Sale_Area'].unique()"
   ]
  },
  {
   "cell_type": "code",
   "execution_count": 311,
   "id": "2f4bd9a0-216c-4335-ba97-600e8bb5d443",
   "metadata": {},
   "outputs": [
    {
     "data": {
      "text/plain": [
       "Sale_Area\n",
       "Semiurban    233\n",
       "Urban        203\n",
       "Rural        179\n",
       "Name: count, dtype: int64"
      ]
     },
     "execution_count": 311,
     "metadata": {},
     "output_type": "execute_result"
    }
   ],
   "source": [
    "data['Sale_Area'].value_counts()"
   ]
  },
  {
   "cell_type": "code",
   "execution_count": 312,
   "id": "82f29e26-59fa-4883-8efb-59a6ec6b402e",
   "metadata": {},
   "outputs": [
    {
     "data": {
      "text/plain": [
       "array(['N', 'Y'], dtype=object)"
      ]
     },
     "execution_count": 312,
     "metadata": {},
     "output_type": "execute_result"
    }
   ],
   "source": [
    "data['Next load_Status'].unique()"
   ]
  },
  {
   "cell_type": "code",
   "execution_count": 313,
   "id": "9efa9755-8873-41c6-8601-898f08555802",
   "metadata": {
    "scrolled": true
   },
   "outputs": [
    {
     "data": {
      "text/plain": [
       "Next load_Status\n",
       "Y    424\n",
       "N    191\n",
       "Name: count, dtype: int64"
      ]
     },
     "execution_count": 313,
     "metadata": {},
     "output_type": "execute_result"
    }
   ],
   "source": [
    "data['Next load_Status'].value_counts()"
   ]
  },
  {
   "cell_type": "markdown",
   "id": "e55e4304-70ef-4b29-8057-ff351bf90de7",
   "metadata": {},
   "source": [
    "### Exploratory Data Analysis (EDA)"
   ]
  },
  {
   "cell_type": "code",
   "execution_count": 314,
   "id": "9ded8250-2991-410a-953a-bd65bde9d0e0",
   "metadata": {},
   "outputs": [],
   "source": [
    "continous = ['Death Rate(%) ', 'Sale (in lakhs)','Profit (%)','Risk (%)','Collection_Amount (in lakhs)']"
   ]
  },
  {
   "cell_type": "code",
   "execution_count": 315,
   "id": "f2d32ba2-65ed-4403-a439-13a359595d45",
   "metadata": {},
   "outputs": [],
   "source": [
    "continous = ['Death Rate(%) ', 'Sale (in lakhs)','Profit (%)','Risk (%)','Collection_Amount (in lakhs)']\n",
    "discrete_categorical = ['Gender','Age (months)','Vaccine status','Sale_Area','Reload_History (per month)','Next load_Status']\n",
    "discrete_count = ['Weight(kg)','Reload_History (per month)']"
   ]
  },
  {
   "cell_type": "code",
   "execution_count": 316,
   "id": "301e2707-34e8-46f4-89ae-da503dceceed",
   "metadata": {},
   "outputs": [
    {
     "data": {
      "text/html": [
       "<div>\n",
       "<style scoped>\n",
       "    .dataframe tbody tr th:only-of-type {\n",
       "        vertical-align: middle;\n",
       "    }\n",
       "\n",
       "    .dataframe tbody tr th {\n",
       "        vertical-align: top;\n",
       "    }\n",
       "\n",
       "    .dataframe thead th {\n",
       "        text-align: right;\n",
       "    }\n",
       "</style>\n",
       "<table border=\"1\" class=\"dataframe\">\n",
       "  <thead>\n",
       "    <tr style=\"text-align: right;\">\n",
       "      <th></th>\n",
       "      <th>Death Rate(%)</th>\n",
       "      <th>Sale (in lakhs)</th>\n",
       "      <th>Profit (%)</th>\n",
       "      <th>Risk (%)</th>\n",
       "      <th>Collection_Amount (in lakhs)</th>\n",
       "    </tr>\n",
       "  </thead>\n",
       "  <tbody>\n",
       "    <tr>\n",
       "      <th>count</th>\n",
       "      <td>615.000000</td>\n",
       "      <td>615.000000</td>\n",
       "      <td>615.000000</td>\n",
       "      <td>615.000000</td>\n",
       "      <td>615.000000</td>\n",
       "    </tr>\n",
       "    <tr>\n",
       "      <th>mean</th>\n",
       "      <td>12.623512</td>\n",
       "      <td>43.047154</td>\n",
       "      <td>109.409756</td>\n",
       "      <td>181.952846</td>\n",
       "      <td>3.389610</td>\n",
       "    </tr>\n",
       "    <tr>\n",
       "      <th>std</th>\n",
       "      <td>3.483846</td>\n",
       "      <td>46.257078</td>\n",
       "      <td>40.650948</td>\n",
       "      <td>106.377697</td>\n",
       "      <td>1.164683</td>\n",
       "    </tr>\n",
       "    <tr>\n",
       "      <th>min</th>\n",
       "      <td>2.000000</td>\n",
       "      <td>2.750000</td>\n",
       "      <td>86.000000</td>\n",
       "      <td>48.000000</td>\n",
       "      <td>0.850000</td>\n",
       "    </tr>\n",
       "    <tr>\n",
       "      <th>25%</th>\n",
       "      <td>12.000000</td>\n",
       "      <td>2.750000</td>\n",
       "      <td>86.000000</td>\n",
       "      <td>95.500000</td>\n",
       "      <td>2.630000</td>\n",
       "    </tr>\n",
       "    <tr>\n",
       "      <th>50%</th>\n",
       "      <td>15.000000</td>\n",
       "      <td>2.750000</td>\n",
       "      <td>90.000000</td>\n",
       "      <td>100.000000</td>\n",
       "      <td>2.630000</td>\n",
       "    </tr>\n",
       "    <tr>\n",
       "      <th>75%</th>\n",
       "      <td>15.000000</td>\n",
       "      <td>98.000000</td>\n",
       "      <td>90.000000</td>\n",
       "      <td>300.000000</td>\n",
       "      <td>4.800000</td>\n",
       "    </tr>\n",
       "    <tr>\n",
       "      <th>max</th>\n",
       "      <td>15.900000</td>\n",
       "      <td>98.000000</td>\n",
       "      <td>250.000000</td>\n",
       "      <td>300.000000</td>\n",
       "      <td>14.800000</td>\n",
       "    </tr>\n",
       "  </tbody>\n",
       "</table>\n",
       "</div>"
      ],
      "text/plain": [
       "       Death Rate(%)   Sale (in lakhs)  Profit (%)    Risk (%)  \\\n",
       "count      615.000000       615.000000  615.000000  615.000000   \n",
       "mean        12.623512        43.047154  109.409756  181.952846   \n",
       "std          3.483846        46.257078   40.650948  106.377697   \n",
       "min          2.000000         2.750000   86.000000   48.000000   \n",
       "25%         12.000000         2.750000   86.000000   95.500000   \n",
       "50%         15.000000         2.750000   90.000000  100.000000   \n",
       "75%         15.000000        98.000000   90.000000  300.000000   \n",
       "max         15.900000        98.000000  250.000000  300.000000   \n",
       "\n",
       "       Collection_Amount (in lakhs)  \n",
       "count                    615.000000  \n",
       "mean                       3.389610  \n",
       "std                        1.164683  \n",
       "min                        0.850000  \n",
       "25%                        2.630000  \n",
       "50%                        2.630000  \n",
       "75%                        4.800000  \n",
       "max                       14.800000  "
      ]
     },
     "execution_count": 316,
     "metadata": {},
     "output_type": "execute_result"
    }
   ],
   "source": [
    "data[continous].describe()"
   ]
  },
  {
   "cell_type": "code",
   "execution_count": 317,
   "id": "4072286f-a653-4885-b166-73dbafe05b14",
   "metadata": {},
   "outputs": [
    {
     "data": {
      "text/plain": [
       "<Axes: xlabel='Collection_Amount (in lakhs)', ylabel='Count'>"
      ]
     },
     "execution_count": 317,
     "metadata": {},
     "output_type": "execute_result"
    },
    {
     "data": {
      "image/png": "[encoded data removed]",
      "text/plain": [
       "<Figure size 1800x800 with 5 Axes>"
      ]
     },
     "metadata": {},
     "output_type": "display_data"
    }
   ],
   "source": [
    "# Histograms with KDE curves\n",
    "plt.rcParams['figure.figsize'] = (18,8)\n",
    "\n",
    "plt.subplot(1,5,1)\n",
    "sns.histplot(data['Weight(kg)'],kde=True)\n",
    "\n",
    "plt.subplot(1,5,2)\n",
    "sns.histplot(data['Sale (in lakhs)'],kde=True)\n",
    "\n",
    "plt.subplot(1,5,3)\n",
    "sns.histplot(data['Profit (%)'],kde=True)\n",
    "\n",
    "plt.subplot(1,5,4)\n",
    "sns.histplot(data['Risk (%)'],kde=True)\n",
    "\n",
    "plt.subplot(1,5,5)\n",
    "sns.histplot(data['Collection_Amount (in lakhs)'],kde=True)\n"
   ]
  },
  {
   "cell_type": "code",
   "execution_count": 318,
   "id": "b8f1f924-5af7-43c6-9fa6-1680a8220e21",
   "metadata": {},
   "outputs": [
    {
     "data": {
      "text/plain": [
       "Death Rate(%)                  -1.463392\n",
       "Sale (in lakhs)                 0.289672\n",
       "Profit (%)                      1.410468\n",
       "Risk (%)                        0.149283\n",
       "Collection_Amount (in lakhs)    1.886005\n",
       "dtype: float64"
      ]
     },
     "execution_count": 318,
     "metadata": {},
     "output_type": "execute_result"
    }
   ],
   "source": [
    "data[continous].skew()"
   ]
  },
  {
   "cell_type": "code",
   "execution_count": 319,
   "id": "7669520e-5195-4305-a15a-e0172e1e31e2",
   "metadata": {},
   "outputs": [
    {
     "data": {
      "image/png": "[encoded data removed]",
      "text/plain": [
       "<Figure size 1250x1250 with 30 Axes>"
      ]
     },
     "metadata": {},
     "output_type": "display_data"
    }
   ],
   "source": [
    "sns.pairplot(data[continous])\n",
    "plt.show()"
   ]
  },
  {
   "cell_type": "code",
   "execution_count": 320,
   "id": "d29a319f-f4bc-4693-a592-360d9f846e5e",
   "metadata": {
    "scrolled": true
   },
   "outputs": [
    {
     "data": {
      "image/png": "[encoded data removed]",
      "text/plain": [
       "<Figure size 1800x800 with 2 Axes>"
      ]
     },
     "metadata": {},
     "output_type": "display_data"
    }
   ],
   "source": [
    "sns.heatmap(data[continous].corr(),annot=True)\n",
    "plt.show()"
   ]
  },
  {
   "cell_type": "code",
   "execution_count": 321,
   "id": "0b06fd03-4554-4d3f-ba53-5b9dd41b1513",
   "metadata": {},
   "outputs": [
    {
     "data": {
      "image/png": "[encoded data removed]",
      "text/plain": [
       "<Figure size 1800x800 with 5 Axes>"
      ]
     },
     "metadata": {},
     "output_type": "display_data"
    }
   ],
   "source": [
    "# Visualize the outliers using Box Plot\n",
    "\n",
    "plt.subplot(1,5,1)\n",
    "sns.boxplot(data['Weight(kg)'])\n",
    "\n",
    "plt.subplot(1,5,2)\n",
    "sns.boxplot(data['Sale (in lakhs)'])\n",
    "\n",
    "plt.subplot(1,5,3)\n",
    "sns.boxplot(data['Profit (%)'])\n",
    "\n",
    "plt.subplot(1,5,4)\n",
    "sns.boxplot(data['Risk (%)'])\n",
    "\n",
    "plt.subplot(1,5,5)\n",
    "sns.boxplot(data['Reload_History (per month)'])\n",
    "\n",
    "plt.suptitle('Outliers in the Data')\n",
    "plt.show()\n"
   ]
  },
  {
   "cell_type": "markdown",
   "id": "404cfaef-3c0c-4064-9ef0-57db10f52db0",
   "metadata": {},
   "source": [
    "### for Discrete Variables "
   ]
  },
  {
   "cell_type": "code",
   "execution_count": 322,
   "id": "7f73a7e2-7ecc-4a53-8d73-2f39461dd8f7",
   "metadata": {},
   "outputs": [],
   "source": [
    "# column analysis\n",
    "continous = ['Weight(kg)','Sale (%)','Profit (%)','Risk (%)','Collection_Amount (in lakhs)']\n",
    "discrete_categorical = ['Gender','Age (months)','Vaccine status','Sale_Area','Next load_Status']\n"
   ]
  },
  {
   "cell_type": "code",
   "execution_count": 323,
   "id": "c892fcc8-5f9d-423d-9138-7a38d6932151",
   "metadata": {},
   "outputs": [
    {
     "data": {
      "text/html": [
       "<div>\n",
       "<style scoped>\n",
       "    .dataframe tbody tr th:only-of-type {\n",
       "        vertical-align: middle;\n",
       "    }\n",
       "\n",
       "    .dataframe tbody tr th {\n",
       "        vertical-align: top;\n",
       "    }\n",
       "\n",
       "    .dataframe thead th {\n",
       "        text-align: right;\n",
       "    }\n",
       "</style>\n",
       "<table border=\"1\" class=\"dataframe\">\n",
       "  <thead>\n",
       "    <tr style=\"text-align: right;\">\n",
       "      <th></th>\n",
       "      <th>Gender</th>\n",
       "      <th>Age (months)</th>\n",
       "      <th>Vaccine status</th>\n",
       "      <th>Sale_Area</th>\n",
       "      <th>Next load_Status</th>\n",
       "    </tr>\n",
       "  </thead>\n",
       "  <tbody>\n",
       "    <tr>\n",
       "      <th>count</th>\n",
       "      <td>615</td>\n",
       "      <td>615</td>\n",
       "      <td>615</td>\n",
       "      <td>615</td>\n",
       "      <td>615</td>\n",
       "    </tr>\n",
       "    <tr>\n",
       "      <th>unique</th>\n",
       "      <td>2</td>\n",
       "      <td>15</td>\n",
       "      <td>2</td>\n",
       "      <td>3</td>\n",
       "      <td>2</td>\n",
       "    </tr>\n",
       "    <tr>\n",
       "      <th>top</th>\n",
       "      <td>Male Bird</td>\n",
       "      <td>0</td>\n",
       "      <td>Yes</td>\n",
       "      <td>Semiurban</td>\n",
       "      <td>Y</td>\n",
       "    </tr>\n",
       "    <tr>\n",
       "      <th>freq</th>\n",
       "      <td>487</td>\n",
       "      <td>149</td>\n",
       "      <td>391</td>\n",
       "      <td>233</td>\n",
       "      <td>424</td>\n",
       "    </tr>\n",
       "  </tbody>\n",
       "</table>\n",
       "</div>"
      ],
      "text/plain": [
       "           Gender Age (months) Vaccine status  Sale_Area Next load_Status\n",
       "count         615          615            615        615              615\n",
       "unique          2           15              2          3                2\n",
       "top     Male Bird            0            Yes  Semiurban                Y\n",
       "freq          487          149            391        233              424"
      ]
     },
     "execution_count": 323,
     "metadata": {},
     "output_type": "execute_result"
    }
   ],
   "source": [
    "data[discrete_categorical].describe()"
   ]
  },
  {
   "cell_type": "code",
   "execution_count": 324,
   "id": "646a4273-7c0e-423c-a4dc-7af1afbdf5a6",
   "metadata": {
    "scrolled": true
   },
   "outputs": [
    {
     "data": {
      "text/plain": [
       "<Axes: >"
      ]
     },
     "execution_count": 324,
     "metadata": {},
     "output_type": "execute_result"
    },
    {
     "data": {
      "image/png": "[encoded data removed]",
      "text/plain": [
       "<Figure size 1800x800 with 5 Axes>"
      ]
     },
     "metadata": {},
     "output_type": "display_data"
    }
   ],
   "source": [
    "# Visualize the outliers using Box Plot\n",
    "plt.subplot(1,5,1)\n",
    "sns.boxplot(data['Weight(kg)'])\n",
    "\n",
    "plt.subplot(1,5,2)\n",
    "sns.boxplot(data['Sale (in lakhs)'])\n",
    "\n",
    "plt.subplot(1,5,3)\n",
    "sns.boxplot(data['Profit (%)'])\n",
    "\n",
    "plt.subplot(1,5,4)\n",
    "sns.histplot(data['Risk (%)'])\n",
    "\n",
    "plt.subplot(1,5,5)\n",
    "sns.boxplot(data['Collection_Amount (in lakhs)'])\n"
   ]
  },
  {
   "cell_type": "markdown",
   "id": "4f5d6df3-4976-41c1-9579-cee7e3c721b2",
   "metadata": {},
   "source": [
    "## Data Preparation:"
   ]
  },
  {
   "cell_type": "markdown",
   "id": "617dcf94-f72c-4358-8671-0fee222286e6",
   "metadata": {},
   "source": [
    "##### Modifying the wrong data "
   ]
  },
  {
   "cell_type": "code",
   "execution_count": 325,
   "id": "da3217a7-1fc9-46f7-8f26-9ba76c7fcf26",
   "metadata": {},
   "outputs": [
    {
     "data": {
      "text/plain": [
       "array(['5', '4', '1', '0', '3', '12', '4+', '2', '11', '10', '9', '6',\n",
       "       '7', '8', '14'], dtype=object)"
      ]
     },
     "execution_count": 325,
     "metadata": {},
     "output_type": "execute_result"
    }
   ],
   "source": [
    "data['Age (months)'].unique()"
   ]
  },
  {
   "cell_type": "code",
   "execution_count": 326,
   "id": "f40ab988-f45f-48b1-a086-36a09653f0f8",
   "metadata": {},
   "outputs": [],
   "source": [
    "# converting the 4+ to 4 - as per observing the dataset.\n",
    "data['Age (months)'] = data['Age (months)'].replace(['4+'],'4')"
   ]
  },
  {
   "cell_type": "code",
   "execution_count": 327,
   "id": "fca52466-4367-4a4a-a0dc-cf569fda6d40",
   "metadata": {},
   "outputs": [
    {
     "data": {
      "text/plain": [
       "array(['5', '4', '1', '0', '3', '12', '2', '11', '10', '9', '6', '7', '8',\n",
       "       '14'], dtype=object)"
      ]
     },
     "execution_count": 327,
     "metadata": {},
     "output_type": "execute_result"
    }
   ],
   "source": [
    "data['Age (months)'].unique()"
   ]
  },
  {
   "cell_type": "markdown",
   "id": "b6815480-a2ee-452a-b3e6-b140c698e4a7",
   "metadata": {},
   "source": [
    "### Missing Values Treatment"
   ]
  },
  {
   "cell_type": "code",
   "execution_count": 328,
   "id": "4228cea1-4eba-4ac4-ae0a-f0d2251075ce",
   "metadata": {},
   "outputs": [
    {
     "data": {
      "text/plain": [
       "Gender                          0\n",
       "Age (months)                    0\n",
       "Vaccine status                  0\n",
       "Weight(kg)                      0\n",
       "Death Rate(%)                   0\n",
       "Sale (in lakhs)                 0\n",
       "Profit (%)                      0\n",
       "Risk (%)                        0\n",
       "Collection_Amount (in lakhs)    0\n",
       "Reload_History (per month)      0\n",
       "Sale_Area                       0\n",
       "Next load_Status                0\n",
       "dtype: int64"
      ]
     },
     "execution_count": 328,
     "metadata": {},
     "output_type": "execute_result"
    }
   ],
   "source": [
    "# Check number of missing values\n",
    "data.isnull().sum()"
   ]
  },
  {
   "cell_type": "code",
   "execution_count": 329,
   "id": "9983cc0d-c4dd-4c94-b38b-1ad5ad5ec7a8",
   "metadata": {
    "scrolled": true
   },
   "outputs": [
    {
     "data": {
      "text/plain": [
       "Gender                          0.0\n",
       "Age (months)                    0.0\n",
       "Vaccine status                  0.0\n",
       "Weight(kg)                      0.0\n",
       "Death Rate(%)                   0.0\n",
       "Sale (in lakhs)                 0.0\n",
       "Profit (%)                      0.0\n",
       "Risk (%)                        0.0\n",
       "Collection_Amount (in lakhs)    0.0\n",
       "Reload_History (per month)      0.0\n",
       "Sale_Area                       0.0\n",
       "Next load_Status                0.0\n",
       "dtype: float64"
      ]
     },
     "execution_count": 329,
     "metadata": {},
     "output_type": "execute_result"
    }
   ],
   "source": [
    "# check percentage of missing values\n",
    "data.isnull().sum()/len(data)*100"
   ]
  },
  {
   "cell_type": "code",
   "execution_count": 330,
   "id": "f8cbd122-ce45-4498-ac4d-921903e402c4",
   "metadata": {},
   "outputs": [],
   "source": [
    "# to make sure thee columns donot have any missing values and donot replace but drop (from the business problem)\n",
    "data = data.dropna(subset=['Weight(kg)','Sale (in lakhs)','Reload_History (per month)','Collection_Amount (in lakhs)','Next load_Status'])"
   ]
  },
  {
   "cell_type": "code",
   "execution_count": 331,
   "id": "ead83c06-81ca-49da-893a-566098e3f2d4",
   "metadata": {},
   "outputs": [
    {
     "data": {
      "text/plain": [
       "Gender                          0\n",
       "Age (months)                    0\n",
       "Vaccine status                  0\n",
       "Weight(kg)                      0\n",
       "Death Rate(%)                   0\n",
       "Sale (in lakhs)                 0\n",
       "Profit (%)                      0\n",
       "Risk (%)                        0\n",
       "Collection_Amount (in lakhs)    0\n",
       "Reload_History (per month)      0\n",
       "Sale_Area                       0\n",
       "Next load_Status                0\n",
       "dtype: int64"
      ]
     },
     "execution_count": 331,
     "metadata": {},
     "output_type": "execute_result"
    }
   ],
   "source": [
    "data.isnull().sum()"
   ]
  },
  {
   "cell_type": "markdown",
   "id": "05c2f632-b034-47a7-844d-954d5db1dba3",
   "metadata": {},
   "source": [
    "### treating Outliers\n",
    "Encoding"
   ]
  },
  {
   "cell_type": "code",
   "execution_count": 332,
   "id": "a8419a63-be81-45ff-94ad-1028f4fd91e0",
   "metadata": {
    "scrolled": true
   },
   "outputs": [],
   "source": [
    "data['Gender'] = data['Gender'].map({'Male Bird':1,'Female Bird':0}).astype('int')"
   ]
  },
  {
   "cell_type": "code",
   "execution_count": 334,
   "id": "39e6065e-da22-4141-840a-852c6eaecb4c",
   "metadata": {},
   "outputs": [],
   "source": [
    "data['Vaccine status'] = data['Vaccine status'].map({'Yes':1,'No':0}).astype('int')"
   ]
  },
  {
   "cell_type": "code",
   "execution_count": 335,
   "id": "3beef7be-b69c-44ea-8109-390e64cd5b76",
   "metadata": {
    "scrolled": true
   },
   "outputs": [],
   "source": [
    "data['Sale_Area'] = data['Sale_Area'].map({'Semiurban':0,'Urban':1,'Rural':2}).astype('int')"
   ]
  },
  {
   "cell_type": "code",
   "execution_count": 336,
   "id": "7a4b0837-3bf3-4b0f-8781-4b6d7235527f",
   "metadata": {},
   "outputs": [],
   "source": [
    "data['Next load_Status'] = data['Next load_Status'].map({'N':0,'Y':1}).astype('int')"
   ]
  },
  {
   "cell_type": "markdown",
   "id": "7cfd04b2-3024-4675-b9c9-b772596457d3",
   "metadata": {},
   "source": [
    "### Data conversion"
   ]
  },
  {
   "cell_type": "code",
   "execution_count": 337,
   "id": "19e64b6a-0b79-436b-968a-8c230e8b7d78",
   "metadata": {},
   "outputs": [],
   "source": [
    "data['Weight(kg)'] = data['Weight(kg)'].astype('int')"
   ]
  },
  {
   "cell_type": "code",
   "execution_count": 344,
   "id": "c9ada62e-0cc7-458f-a87d-033239065d40",
   "metadata": {},
   "outputs": [],
   "source": [
    "data['Sale (in lakhs)'] = data['Sale (in lakhs)'].astype('int')"
   ]
  },
  {
   "cell_type": "code",
   "execution_count": 345,
   "id": "4d4a37a3-d892-48ce-a5c7-ac8199cd99f5",
   "metadata": {},
   "outputs": [],
   "source": [
    "data['Age (months)'] = data['Age (months)'].astype('int')"
   ]
  },
  {
   "cell_type": "code",
   "execution_count": 346,
   "id": "ff28fb49-602d-42f7-86af-06e1945b3ec2",
   "metadata": {},
   "outputs": [],
   "source": [
    "data['Collection_Amount (in lakhs)'] = data['Collection_Amount (in lakhs)'].astype('int')"
   ]
  },
  {
   "cell_type": "code",
   "execution_count": 347,
   "id": "b3b907e8-13a3-4715-85e9-33792ef7d031",
   "metadata": {},
   "outputs": [
    {
     "name": "stdout",
     "output_type": "stream",
     "text": [
      "<class 'pandas.core.frame.DataFrame'>\n",
      "RangeIndex: 615 entries, 0 to 614\n",
      "Data columns (total 13 columns):\n",
      " #   Column                        Non-Null Count  Dtype  \n",
      "---  ------                        --------------  -----  \n",
      " 0   Gender                        615 non-null    int32  \n",
      " 1   Age (months)                  615 non-null    int32  \n",
      " 2   Vaccine status                615 non-null    int32  \n",
      " 3   Weight(kg)                    615 non-null    int32  \n",
      " 4   Death Rate(%)                 615 non-null    float64\n",
      " 5   Sale (in lakhs)               615 non-null    int32  \n",
      " 6   Profit (%)                    615 non-null    int64  \n",
      " 7   Risk (%)                      615 non-null    int64  \n",
      " 8   Collection_Amount (in lakhs)  615 non-null    int32  \n",
      " 9   Reload_History (per month)    615 non-null    int64  \n",
      " 10  Sale_Area                     615 non-null    int32  \n",
      " 11  Next load_Status              615 non-null    int32  \n",
      " 12  Sale (%)                      615 non-null    int32  \n",
      "dtypes: float64(1), int32(9), int64(3)\n",
      "memory usage: 41.0 KB\n"
     ]
    }
   ],
   "source": [
    "data.info()"
   ]
  },
  {
   "cell_type": "markdown",
   "id": "78e4e890-c2fa-46bd-be01-2ecc687c74a9",
   "metadata": {},
   "source": [
    "### Transformation"
   ]
  },
  {
   "cell_type": "code",
   "execution_count": 348,
   "id": "3d868b0f-c865-42f1-acd4-85ae1487421e",
   "metadata": {},
   "outputs": [
    {
     "data": {
      "text/plain": [
       "Weight(kg)    1.822597\n",
       "Profit (%)    1.410468\n",
       "dtype: float64"
      ]
     },
     "execution_count": 348,
     "metadata": {},
     "output_type": "execute_result"
    }
   ],
   "source": [
    "data[['Weight(kg)','Profit (%)']].skew()   # no skewness"
   ]
  },
  {
   "cell_type": "code",
   "execution_count": 349,
   "id": "906b46f0-23a7-43fa-bf01-b7ff7b5c34b6",
   "metadata": {},
   "outputs": [
    {
     "data": {
      "text/html": [
       "<div>\n",
       "<style scoped>\n",
       "    .dataframe tbody tr th:only-of-type {\n",
       "        vertical-align: middle;\n",
       "    }\n",
       "\n",
       "    .dataframe tbody tr th {\n",
       "        vertical-align: top;\n",
       "    }\n",
       "\n",
       "    .dataframe thead th {\n",
       "        text-align: right;\n",
       "    }\n",
       "</style>\n",
       "<table border=\"1\" class=\"dataframe\">\n",
       "  <thead>\n",
       "    <tr style=\"text-align: right;\">\n",
       "      <th></th>\n",
       "      <th>Gender</th>\n",
       "      <th>Age (months)</th>\n",
       "      <th>Vaccine status</th>\n",
       "      <th>Weight(kg)</th>\n",
       "      <th>Death Rate(%)</th>\n",
       "      <th>Sale (in lakhs)</th>\n",
       "      <th>Profit (%)</th>\n",
       "      <th>Risk (%)</th>\n",
       "      <th>Collection_Amount (in lakhs)</th>\n",
       "      <th>Reload_History (per month)</th>\n",
       "      <th>Sale_Area</th>\n",
       "      <th>Next load_Status</th>\n",
       "      <th>Sale (%)</th>\n",
       "    </tr>\n",
       "  </thead>\n",
       "  <tbody>\n",
       "    <tr>\n",
       "      <th>0</th>\n",
       "      <td>1</td>\n",
       "      <td>5</td>\n",
       "      <td>1</td>\n",
       "      <td>5</td>\n",
       "      <td>12.0</td>\n",
       "      <td>98</td>\n",
       "      <td>90</td>\n",
       "      <td>100</td>\n",
       "      <td>14</td>\n",
       "      <td>1</td>\n",
       "      <td>1</td>\n",
       "      <td>0</td>\n",
       "      <td>98</td>\n",
       "    </tr>\n",
       "    <tr>\n",
       "      <th>1</th>\n",
       "      <td>0</td>\n",
       "      <td>4</td>\n",
       "      <td>1</td>\n",
       "      <td>0</td>\n",
       "      <td>15.0</td>\n",
       "      <td>2</td>\n",
       "      <td>86</td>\n",
       "      <td>100</td>\n",
       "      <td>2</td>\n",
       "      <td>1</td>\n",
       "      <td>0</td>\n",
       "      <td>1</td>\n",
       "      <td>2</td>\n",
       "    </tr>\n",
       "    <tr>\n",
       "      <th>2</th>\n",
       "      <td>1</td>\n",
       "      <td>1</td>\n",
       "      <td>1</td>\n",
       "      <td>0</td>\n",
       "      <td>15.9</td>\n",
       "      <td>2</td>\n",
       "      <td>86</td>\n",
       "      <td>100</td>\n",
       "      <td>2</td>\n",
       "      <td>1</td>\n",
       "      <td>1</td>\n",
       "      <td>0</td>\n",
       "      <td>2</td>\n",
       "    </tr>\n",
       "    <tr>\n",
       "      <th>3</th>\n",
       "      <td>1</td>\n",
       "      <td>0</td>\n",
       "      <td>1</td>\n",
       "      <td>0</td>\n",
       "      <td>15.0</td>\n",
       "      <td>2</td>\n",
       "      <td>86</td>\n",
       "      <td>100</td>\n",
       "      <td>2</td>\n",
       "      <td>1</td>\n",
       "      <td>1</td>\n",
       "      <td>0</td>\n",
       "      <td>2</td>\n",
       "    </tr>\n",
       "    <tr>\n",
       "      <th>4</th>\n",
       "      <td>0</td>\n",
       "      <td>3</td>\n",
       "      <td>1</td>\n",
       "      <td>0</td>\n",
       "      <td>15.0</td>\n",
       "      <td>2</td>\n",
       "      <td>90</td>\n",
       "      <td>100</td>\n",
       "      <td>2</td>\n",
       "      <td>1</td>\n",
       "      <td>1</td>\n",
       "      <td>1</td>\n",
       "      <td>2</td>\n",
       "    </tr>\n",
       "    <tr>\n",
       "      <th>...</th>\n",
       "      <td>...</td>\n",
       "      <td>...</td>\n",
       "      <td>...</td>\n",
       "      <td>...</td>\n",
       "      <td>...</td>\n",
       "      <td>...</td>\n",
       "      <td>...</td>\n",
       "      <td>...</td>\n",
       "      <td>...</td>\n",
       "      <td>...</td>\n",
       "      <td>...</td>\n",
       "      <td>...</td>\n",
       "      <td>...</td>\n",
       "    </tr>\n",
       "    <tr>\n",
       "      <th>610</th>\n",
       "      <td>1</td>\n",
       "      <td>2</td>\n",
       "      <td>0</td>\n",
       "      <td>0</td>\n",
       "      <td>15.0</td>\n",
       "      <td>2</td>\n",
       "      <td>86</td>\n",
       "      <td>300</td>\n",
       "      <td>2</td>\n",
       "      <td>1</td>\n",
       "      <td>0</td>\n",
       "      <td>1</td>\n",
       "      <td>2</td>\n",
       "    </tr>\n",
       "    <tr>\n",
       "      <th>611</th>\n",
       "      <td>1</td>\n",
       "      <td>2</td>\n",
       "      <td>0</td>\n",
       "      <td>0</td>\n",
       "      <td>15.0</td>\n",
       "      <td>2</td>\n",
       "      <td>86</td>\n",
       "      <td>300</td>\n",
       "      <td>2</td>\n",
       "      <td>1</td>\n",
       "      <td>2</td>\n",
       "      <td>1</td>\n",
       "      <td>2</td>\n",
       "    </tr>\n",
       "    <tr>\n",
       "      <th>612</th>\n",
       "      <td>1</td>\n",
       "      <td>2</td>\n",
       "      <td>0</td>\n",
       "      <td>0</td>\n",
       "      <td>15.0</td>\n",
       "      <td>2</td>\n",
       "      <td>86</td>\n",
       "      <td>300</td>\n",
       "      <td>2</td>\n",
       "      <td>1</td>\n",
       "      <td>2</td>\n",
       "      <td>1</td>\n",
       "      <td>2</td>\n",
       "    </tr>\n",
       "    <tr>\n",
       "      <th>613</th>\n",
       "      <td>0</td>\n",
       "      <td>5</td>\n",
       "      <td>0</td>\n",
       "      <td>1</td>\n",
       "      <td>12.0</td>\n",
       "      <td>98</td>\n",
       "      <td>90</td>\n",
       "      <td>100</td>\n",
       "      <td>4</td>\n",
       "      <td>1</td>\n",
       "      <td>2</td>\n",
       "      <td>1</td>\n",
       "      <td>98</td>\n",
       "    </tr>\n",
       "    <tr>\n",
       "      <th>614</th>\n",
       "      <td>1</td>\n",
       "      <td>2</td>\n",
       "      <td>0</td>\n",
       "      <td>0</td>\n",
       "      <td>15.0</td>\n",
       "      <td>2</td>\n",
       "      <td>86</td>\n",
       "      <td>300</td>\n",
       "      <td>2</td>\n",
       "      <td>1</td>\n",
       "      <td>2</td>\n",
       "      <td>1</td>\n",
       "      <td>2</td>\n",
       "    </tr>\n",
       "  </tbody>\n",
       "</table>\n",
       "<p>615 rows × 13 columns</p>\n",
       "</div>"
      ],
      "text/plain": [
       "     Gender  Age (months)  Vaccine status  Weight(kg)  Death Rate(%)   \\\n",
       "0         1             5               1           5            12.0   \n",
       "1         0             4               1           0            15.0   \n",
       "2         1             1               1           0            15.9   \n",
       "3         1             0               1           0            15.0   \n",
       "4         0             3               1           0            15.0   \n",
       "..      ...           ...             ...         ...             ...   \n",
       "610       1             2               0           0            15.0   \n",
       "611       1             2               0           0            15.0   \n",
       "612       1             2               0           0            15.0   \n",
       "613       0             5               0           1            12.0   \n",
       "614       1             2               0           0            15.0   \n",
       "\n",
       "     Sale (in lakhs)  Profit (%)  Risk (%)  Collection_Amount (in lakhs)  \\\n",
       "0                 98          90       100                            14   \n",
       "1                  2          86       100                             2   \n",
       "2                  2          86       100                             2   \n",
       "3                  2          86       100                             2   \n",
       "4                  2          90       100                             2   \n",
       "..               ...         ...       ...                           ...   \n",
       "610                2          86       300                             2   \n",
       "611                2          86       300                             2   \n",
       "612                2          86       300                             2   \n",
       "613               98          90       100                             4   \n",
       "614                2          86       300                             2   \n",
       "\n",
       "     Reload_History (per month)  Sale_Area  Next load_Status  Sale (%)  \n",
       "0                             1          1                 0        98  \n",
       "1                             1          0                 1         2  \n",
       "2                             1          1                 0         2  \n",
       "3                             1          1                 0         2  \n",
       "4                             1          1                 1         2  \n",
       "..                          ...        ...               ...       ...  \n",
       "610                           1          0                 1         2  \n",
       "611                           1          2                 1         2  \n",
       "612                           1          2                 1         2  \n",
       "613                           1          2                 1        98  \n",
       "614                           1          2                 1         2  \n",
       "\n",
       "[615 rows x 13 columns]"
      ]
     },
     "execution_count": 349,
     "metadata": {},
     "output_type": "execute_result"
    }
   ],
   "source": [
    "data"
   ]
  },
  {
   "cell_type": "markdown",
   "id": "72a54da9-d4e0-4913-88a9-9bc8e2ed8754",
   "metadata": {},
   "source": [
    "### X & y"
   ]
  },
  {
   "cell_type": "code",
   "execution_count": 350,
   "id": "191f2ee5-787e-45c2-a782-20891b0b8700",
   "metadata": {},
   "outputs": [],
   "source": [
    "X = data.drop('Next load_Status',axis=1)\n",
    "y = data['Next load_Status']"
   ]
  },
  {
   "cell_type": "markdown",
   "id": "492d080d-6025-4b2f-b382-c399d94163c0",
   "metadata": {},
   "source": [
    "### Identify the best random state number"
   ]
  },
  {
   "cell_type": "code",
   "execution_count": 352,
   "id": "701c55b8-9020-49e5-9c0f-d6e8a8695755",
   "metadata": {},
   "outputs": [
    {
     "name": "stdout",
     "output_type": "stream",
     "text": [
      "best random_state number: 65\n"
     ]
    }
   ],
   "source": [
    "Train = []\n",
    "Test  = []\n",
    "CV = []\n",
    "\n",
    "for i in range(0,101):\n",
    "    from sklearn.model_selection import train_test_split\n",
    "    X_train, X_test, y_train, y_test = train_test_split(X,y,test_size=0.2, random_state=i)\n",
    "    \n",
    "    from sklearn.linear_model import LogisticRegression\n",
    "    log_default = LogisticRegression()\n",
    "    log_default.fit(X_train,y_train)\n",
    "\n",
    "    ypred_train = log_default.predict(X_train)\n",
    "    ypred_test  = log_default.predict(X_test)\n",
    "\n",
    "    from sklearn.metrics import accuracy_score\n",
    "    Train.append(accuracy_score(y_train,ypred_train))\n",
    "    Test.append(accuracy_score(y_test,ypred_test))\n",
    "\n",
    "    from sklearn.model_selection import cross_val_score\n",
    "    CV.append(cross_val_score(log_default, X_train, y_train, cv=5,scoring=\"accuracy\").mean())\n",
    "\n",
    "em = pd.DataFrame({\"Train\":Train, \"Test\":Test, \"CV\":CV})\n",
    "gm = em[(abs(em['Train']-em['Test'])<=0.05) & (abs(em['Test']-em['CV'])<=0.05)]\n",
    "rs = gm[gm[\"CV\"]==gm[\"CV\"].max()].index.to_list()[0]\n",
    "print(\"best random_state number:\",rs)"
   ]
  },
  {
   "cell_type": "markdown",
   "id": "07c9e30d-29c8-405c-84c4-e3e1d3793554",
   "metadata": {},
   "source": [
    "### train-test split"
   ]
  },
  {
   "cell_type": "code",
   "execution_count": 355,
   "id": "fddaa8de-a1b3-4c0f-be1d-f7bfb4b620bc",
   "metadata": {},
   "outputs": [],
   "source": [
    "from sklearn.model_selection import train_test_split\n",
    "X_train, X_test, y_train, y_test = train_test_split(X, y, test_size = 0.2, random_state = rs)"
   ]
  },
  {
   "cell_type": "markdown",
   "id": "ed3859aa-5bf2-49e3-a389-2844d603594b",
   "metadata": {},
   "source": [
    "### Machine Learning Modelling & Evaluation"
   ]
  },
  {
   "cell_type": "markdown",
   "id": "95f62c1a-3ede-411e-9bec-7b5c15e41bd5",
   "metadata": {},
   "source": [
    "### 1. Logistic Regression"
   ]
  },
  {
   "cell_type": "code",
   "execution_count": 435,
   "id": "0fb5c51d-38ae-400c-bfe8-73debd9533a4",
   "metadata": {
    "scrolled": true
   },
   "outputs": [
    {
     "name": "stdout",
     "output_type": "stream",
     "text": [
      "Train Accuracy : 0.8252032520325203\n",
      "Cross validation score : 0.8231704803133374\n",
      "Test Accuracy : 0.7804878048780488\n"
     ]
    }
   ],
   "source": [
    "from sklearn.linear_model import LogisticRegression\n",
    "log_model = LogisticRegression()\n",
    "log_model.fit(X_train,y_train)\n",
    "\n",
    "ypred_train = log_model.predict(X_train)\n",
    "ypred_test  = log_model.predict(X_test)\n",
    "\n",
    "print(\"Train Accuracy :\",accuracy_score(y_train,ypred_train))\n",
    "print(\"Cross validation score :\", cross_val_score(log_model,X_train,y_train,cv=5,scoring=\"accuracy\").mean())\n",
    "print(\"Test Accuracy :\",accuracy_score(y_test,ypred_test))"
   ]
  },
  {
   "cell_type": "markdown",
   "id": "0d8d10c0-c650-4225-b362-38d142f0d954",
   "metadata": {},
   "source": [
    "### 2. KNN"
   ]
  },
  {
   "cell_type": "code",
   "execution_count": 436,
   "id": "14065e97-69f7-4536-b864-0af3ddc3968f",
   "metadata": {},
   "outputs": [
    {
     "name": "stdout",
     "output_type": "stream",
     "text": [
      "Train Accuracy : 0.7926829268292683\n",
      "Cross validation score : 0.75007215007215\n",
      "Test Accuracy : 0.6422764227642277\n"
     ]
    }
   ],
   "source": [
    "from sklearn.neighbors import KNeighborsClassifier\n",
    "\n",
    "estimator = KNeighborsClassifier()\n",
    "param_grid = {'n_neighbors': list(range(1,50))}\n",
    "\n",
    "from sklearn.model_selection import GridSearchCV\n",
    "knn_grid = GridSearchCV(estimator, param_grid, scoring='accuracy',cv=5)\n",
    "knn_grid.fit(X_train,y_train)\n",
    "\n",
    "knn_model = knn_grid.best_estimator_\n",
    "\n",
    "ypred_train = knn_model.predict(X_train)\n",
    "ypred_test  = knn_model.predict(X_test)\n",
    "\n",
    "print(\"Train Accuracy :\", accuracy_score(y_train,ypred_train))\n",
    "print(\"Cross validation score :\", cross_val_score(knn_model,X_train,y_train,cv=5,scoring=\"accuracy\").mean())\n",
    "print(\"Test Accuracy :\", accuracy_score(y_test,ypred_test))"
   ]
  },
  {
   "cell_type": "code",
   "execution_count": 358,
   "id": "71490933-5f90-486e-916c-22b11535353f",
   "metadata": {},
   "outputs": [
    {
     "data": {
      "text/html": [
       "<style>#sk-container-id-1 {color: black;}#sk-container-id-1 pre{padding: 0;}#sk-container-id-1 div.sk-toggleable {background-color: white;}#sk-container-id-1 label.sk-toggleable__label {cursor: pointer;display: block;width: 100%;margin-bottom: 0;padding: 0.3em;box-sizing: border-box;text-align: center;}#sk-container-id-1 label.sk-toggleable__label-arrow:before {content: \"▸\";float: left;margin-right: 0.25em;color: #696969;}#sk-container-id-1 label.sk-toggleable__label-arrow:hover:before {color: black;}#sk-container-id-1 div.sk-estimator:hover label.sk-toggleable__label-arrow:before {color: black;}#sk-container-id-1 div.sk-toggleable__content {max-height: 0;max-width: 0;overflow: hidden;text-align: left;background-color: #f0f8ff;}#sk-container-id-1 div.sk-toggleable__content pre {margin: 0.2em;color: black;border-radius: 0.25em;background-color: #f0f8ff;}#sk-container-id-1 input.sk-toggleable__control:checked~div.sk-toggleable__content {max-height: 200px;max-width: 100%;overflow: auto;}#sk-container-id-1 input.sk-toggleable__control:checked~label.sk-toggleable__label-arrow:before {content: \"▾\";}#sk-container-id-1 div.sk-estimator input.sk-toggleable__control:checked~label.sk-toggleable__label {background-color: #d4ebff;}#sk-container-id-1 div.sk-label input.sk-toggleable__control:checked~label.sk-toggleable__label {background-color: #d4ebff;}#sk-container-id-1 input.sk-hidden--visually {border: 0;clip: rect(1px 1px 1px 1px);clip: rect(1px, 1px, 1px, 1px);height: 1px;margin: -1px;overflow: hidden;padding: 0;position: absolute;width: 1px;}#sk-container-id-1 div.sk-estimator {font-family: monospace;background-color: #f0f8ff;border: 1px dotted black;border-radius: 0.25em;box-sizing: border-box;margin-bottom: 0.5em;}#sk-container-id-1 div.sk-estimator:hover {background-color: #d4ebff;}#sk-container-id-1 div.sk-parallel-item::after {content: \"\";width: 100%;border-bottom: 1px solid gray;flex-grow: 1;}#sk-container-id-1 div.sk-label:hover label.sk-toggleable__label {background-color: #d4ebff;}#sk-container-id-1 div.sk-serial::before {content: \"\";position: absolute;border-left: 1px solid gray;box-sizing: border-box;top: 0;bottom: 0;left: 50%;z-index: 0;}#sk-container-id-1 div.sk-serial {display: flex;flex-direction: column;align-items: center;background-color: white;padding-right: 0.2em;padding-left: 0.2em;position: relative;}#sk-container-id-1 div.sk-item {position: relative;z-index: 1;}#sk-container-id-1 div.sk-parallel {display: flex;align-items: stretch;justify-content: center;background-color: white;position: relative;}#sk-container-id-1 div.sk-item::before, #sk-container-id-1 div.sk-parallel-item::before {content: \"\";position: absolute;border-left: 1px solid gray;box-sizing: border-box;top: 0;bottom: 0;left: 50%;z-index: -1;}#sk-container-id-1 div.sk-parallel-item {display: flex;flex-direction: column;z-index: 1;position: relative;background-color: white;}#sk-container-id-1 div.sk-parallel-item:first-child::after {align-self: flex-end;width: 50%;}#sk-container-id-1 div.sk-parallel-item:last-child::after {align-self: flex-start;width: 50%;}#sk-container-id-1 div.sk-parallel-item:only-child::after {width: 0;}#sk-container-id-1 div.sk-dashed-wrapped {border: 1px dashed gray;margin: 0 0.4em 0.5em 0.4em;box-sizing: border-box;padding-bottom: 0.4em;background-color: white;}#sk-container-id-1 div.sk-label label {font-family: monospace;font-weight: bold;display: inline-block;line-height: 1.2em;}#sk-container-id-1 div.sk-label-container {text-align: center;}#sk-container-id-1 div.sk-container {/* jupyter's `normalize.less` sets `[hidden] { display: none; }` but bootstrap.min.css set `[hidden] { display: none !important; }` so we also need the `!important` here to be able to override the default hidden behavior on the sphinx rendered scikit-learn.org. See: https://github.com/scikit-learn/scikit-learn/issues/21755 */display: inline-block !important;position: relative;}#sk-container-id-1 div.sk-text-repr-fallback {display: none;}</style><div id=\"sk-container-id-1\" class=\"sk-top-container\"><div class=\"sk-text-repr-fallback\"><pre>KNeighborsClassifier(n_neighbors=7)</pre><b>In a Jupyter environment, please rerun this cell to show the HTML representation or trust the notebook. <br />On GitHub, the HTML representation is unable to render, please try loading this page with nbviewer.org.</b></div><div class=\"sk-container\" hidden><div class=\"sk-item\"><div class=\"sk-estimator sk-toggleable\"><input class=\"sk-toggleable__control sk-hidden--visually\" id=\"sk-estimator-id-1\" type=\"checkbox\" checked><label for=\"sk-estimator-id-1\" class=\"sk-toggleable__label sk-toggleable__label-arrow\">KNeighborsClassifier</label><div class=\"sk-toggleable__content\"><pre>KNeighborsClassifier(n_neighbors=7)</pre></div></div></div></div></div>"
      ],
      "text/plain": [
       "KNeighborsClassifier(n_neighbors=7)"
      ]
     },
     "execution_count": 358,
     "metadata": {},
     "output_type": "execute_result"
    }
   ],
   "source": [
    "knn_grid.best_estimator_"
   ]
  },
  {
   "cell_type": "markdown",
   "id": "6ae7fdcb-e34a-40d5-acf6-a99291c13bb4",
   "metadata": {},
   "source": [
    "### 3. Support Vector Machine (SVM)"
   ]
  },
  {
   "cell_type": "code",
   "execution_count": 438,
   "id": "59429fdc-a75e-4485-b603-5a4ce07dbd17",
   "metadata": {},
   "outputs": [
    {
     "name": "stdout",
     "output_type": "stream",
     "text": [
      "Train Accuracy : 0.8211382113821138\n",
      "Cross validation score : 0.8211502782931355\n",
      "Test Accuracy : 0.7723577235772358\n"
     ]
    }
   ],
   "source": [
    "from sklearn.svm import SVC\n",
    "\n",
    "estimator = SVC()\n",
    "param_grid = {'C':[0.01,0.1,1],'kernel':['linear','rbf','sigmoid','poly']}\n",
    "\n",
    "from sklearn.model_selection import GridSearchCV\n",
    "svm_grid = GridSearchCV(estimator, param_grid,scoring='accuracy',cv=5)\n",
    "svm_grid.fit(X_train,y_train)\n",
    "\n",
    "svm_model = svm_grid.best_estimator_\n",
    "\n",
    "ypred_train = svm_model.predict(X_train)\n",
    "ypred_test  = svm_model.predict(X_test)\n",
    "\n",
    "print(\"Train Accuracy :\", accuracy_score(y_train,ypred_train))\n",
    "print(\"Cross validation score :\", cross_val_score(svm_model,X_train,y_train,cv=5,scoring=\"accuracy\").mean())\n",
    "print(\"Test Accuracy :\", accuracy_score(y_test,ypred_test))"
   ]
  },
  {
   "cell_type": "code",
   "execution_count": 369,
   "id": "99d1ff4f-9592-42c2-b7b3-f73a10ae4f10",
   "metadata": {},
   "outputs": [],
   "source": [
    "svm_grid.best_estimator_"
   ]
  },
  {
   "cell_type": "markdown",
   "id": "9d238580-edab-4207-b69e-db52b3adf490",
   "metadata": {},
   "source": [
    "### 4. Decision Tree Classifier"
   ]
  },
  {
   "cell_type": "code",
   "execution_count": 404,
   "id": "8eb0f4b5-ab2b-4608-9c51-4fd3c9e305f9",
   "metadata": {
    "scrolled": true
   },
   "outputs": [
    {
     "data": {
      "text/html": [
       "<style>#sk-container-id-7 {color: black;}#sk-container-id-7 pre{padding: 0;}#sk-container-id-7 div.sk-toggleable {background-color: white;}#sk-container-id-7 label.sk-toggleable__label {cursor: pointer;display: block;width: 100%;margin-bottom: 0;padding: 0.3em;box-sizing: border-box;text-align: center;}#sk-container-id-7 label.sk-toggleable__label-arrow:before {content: \"▸\";float: left;margin-right: 0.25em;color: #696969;}#sk-container-id-7 label.sk-toggleable__label-arrow:hover:before {color: black;}#sk-container-id-7 div.sk-estimator:hover label.sk-toggleable__label-arrow:before {color: black;}#sk-container-id-7 div.sk-toggleable__content {max-height: 0;max-width: 0;overflow: hidden;text-align: left;background-color: #f0f8ff;}#sk-container-id-7 div.sk-toggleable__content pre {margin: 0.2em;color: black;border-radius: 0.25em;background-color: #f0f8ff;}#sk-container-id-7 input.sk-toggleable__control:checked~div.sk-toggleable__content {max-height: 200px;max-width: 100%;overflow: auto;}#sk-container-id-7 input.sk-toggleable__control:checked~label.sk-toggleable__label-arrow:before {content: \"▾\";}#sk-container-id-7 div.sk-estimator input.sk-toggleable__control:checked~label.sk-toggleable__label {background-color: #d4ebff;}#sk-container-id-7 div.sk-label input.sk-toggleable__control:checked~label.sk-toggleable__label {background-color: #d4ebff;}#sk-container-id-7 input.sk-hidden--visually {border: 0;clip: rect(1px 1px 1px 1px);clip: rect(1px, 1px, 1px, 1px);height: 1px;margin: -1px;overflow: hidden;padding: 0;position: absolute;width: 1px;}#sk-container-id-7 div.sk-estimator {font-family: monospace;background-color: #f0f8ff;border: 1px dotted black;border-radius: 0.25em;box-sizing: border-box;margin-bottom: 0.5em;}#sk-container-id-7 div.sk-estimator:hover {background-color: #d4ebff;}#sk-container-id-7 div.sk-parallel-item::after {content: \"\";width: 100%;border-bottom: 1px solid gray;flex-grow: 1;}#sk-container-id-7 div.sk-label:hover label.sk-toggleable__label {background-color: #d4ebff;}#sk-container-id-7 div.sk-serial::before {content: \"\";position: absolute;border-left: 1px solid gray;box-sizing: border-box;top: 0;bottom: 0;left: 50%;z-index: 0;}#sk-container-id-7 div.sk-serial {display: flex;flex-direction: column;align-items: center;background-color: white;padding-right: 0.2em;padding-left: 0.2em;position: relative;}#sk-container-id-7 div.sk-item {position: relative;z-index: 1;}#sk-container-id-7 div.sk-parallel {display: flex;align-items: stretch;justify-content: center;background-color: white;position: relative;}#sk-container-id-7 div.sk-item::before, #sk-container-id-7 div.sk-parallel-item::before {content: \"\";position: absolute;border-left: 1px solid gray;box-sizing: border-box;top: 0;bottom: 0;left: 50%;z-index: -1;}#sk-container-id-7 div.sk-parallel-item {display: flex;flex-direction: column;z-index: 1;position: relative;background-color: white;}#sk-container-id-7 div.sk-parallel-item:first-child::after {align-self: flex-end;width: 50%;}#sk-container-id-7 div.sk-parallel-item:last-child::after {align-self: flex-start;width: 50%;}#sk-container-id-7 div.sk-parallel-item:only-child::after {width: 0;}#sk-container-id-7 div.sk-dashed-wrapped {border: 1px dashed gray;margin: 0 0.4em 0.5em 0.4em;box-sizing: border-box;padding-bottom: 0.4em;background-color: white;}#sk-container-id-7 div.sk-label label {font-family: monospace;font-weight: bold;display: inline-block;line-height: 1.2em;}#sk-container-id-7 div.sk-label-container {text-align: center;}#sk-container-id-7 div.sk-container {/* jupyter's `normalize.less` sets `[hidden] { display: none; }` but bootstrap.min.css set `[hidden] { display: none !important; }` so we also need the `!important` here to be able to override the default hidden behavior on the sphinx rendered scikit-learn.org. See: https://github.com/scikit-learn/scikit-learn/issues/21755 */display: inline-block !important;position: relative;}#sk-container-id-7 div.sk-text-repr-fallback {display: none;}</style><div id=\"sk-container-id-7\" class=\"sk-top-container\"><div class=\"sk-text-repr-fallback\"><pre>GridSearchCV(cv=5, estimator=DecisionTreeClassifier(random_state=65),\n",
       "             param_grid={&#x27;criterion&#x27;: [&#x27;gini&#x27;, &#x27;entropy&#x27;],\n",
       "                         &#x27;max_depth&#x27;: [1, 2, 3, 4, 5, 6, 7, 8, 9, 10, 11, 12,\n",
       "                                       13, 14, 15]},\n",
       "             scoring=&#x27;accuracy&#x27;)</pre><b>In a Jupyter environment, please rerun this cell to show the HTML representation or trust the notebook. <br />On GitHub, the HTML representation is unable to render, please try loading this page with nbviewer.org.</b></div><div class=\"sk-container\" hidden><div class=\"sk-item sk-dashed-wrapped\"><div class=\"sk-label-container\"><div class=\"sk-label sk-toggleable\"><input class=\"sk-toggleable__control sk-hidden--visually\" id=\"sk-estimator-id-11\" type=\"checkbox\" ><label for=\"sk-estimator-id-11\" class=\"sk-toggleable__label sk-toggleable__label-arrow\">GridSearchCV</label><div class=\"sk-toggleable__content\"><pre>GridSearchCV(cv=5, estimator=DecisionTreeClassifier(random_state=65),\n",
       "             param_grid={&#x27;criterion&#x27;: [&#x27;gini&#x27;, &#x27;entropy&#x27;],\n",
       "                         &#x27;max_depth&#x27;: [1, 2, 3, 4, 5, 6, 7, 8, 9, 10, 11, 12,\n",
       "                                       13, 14, 15]},\n",
       "             scoring=&#x27;accuracy&#x27;)</pre></div></div></div><div class=\"sk-parallel\"><div class=\"sk-parallel-item\"><div class=\"sk-item\"><div class=\"sk-label-container\"><div class=\"sk-label sk-toggleable\"><input class=\"sk-toggleable__control sk-hidden--visually\" id=\"sk-estimator-id-12\" type=\"checkbox\" ><label for=\"sk-estimator-id-12\" class=\"sk-toggleable__label sk-toggleable__label-arrow\">estimator: DecisionTreeClassifier</label><div class=\"sk-toggleable__content\"><pre>DecisionTreeClassifier(random_state=65)</pre></div></div></div><div class=\"sk-serial\"><div class=\"sk-item\"><div class=\"sk-estimator sk-toggleable\"><input class=\"sk-toggleable__control sk-hidden--visually\" id=\"sk-estimator-id-13\" type=\"checkbox\" ><label for=\"sk-estimator-id-13\" class=\"sk-toggleable__label sk-toggleable__label-arrow\">DecisionTreeClassifier</label><div class=\"sk-toggleable__content\"><pre>DecisionTreeClassifier(random_state=65)</pre></div></div></div></div></div></div></div></div></div></div>"
      ],
      "text/plain": [
       "GridSearchCV(cv=5, estimator=DecisionTreeClassifier(random_state=65),\n",
       "             param_grid={'criterion': ['gini', 'entropy'],\n",
       "                         'max_depth': [1, 2, 3, 4, 5, 6, 7, 8, 9, 10, 11, 12,\n",
       "                                       13, 14, 15]},\n",
       "             scoring='accuracy')"
      ]
     },
     "execution_count": 404,
     "metadata": {},
     "output_type": "execute_result"
    }
   ],
   "source": [
    "from sklearn.tree import DecisionTreeClassifier\n",
    "estimator = DecisionTreeClassifier(random_state=rs)\n",
    "param_grid = {\"criterion\":[\"gini\",\"entropy\"],\n",
    "              \"max_depth\":list(range(1,16))}\n",
    "\n",
    "from sklearn.model_selection import GridSearchCV\n",
    "dt_grid = GridSearchCV(estimator,param_grid, scoring='accuracy',cv=5)\n",
    "dt_grid.fit(X_train,y_train)"
   ]
  },
  {
   "cell_type": "code",
   "execution_count": 405,
   "id": "f0b5d203-59b4-4659-92db-293e4253e17e",
   "metadata": {},
   "outputs": [],
   "source": [
    " # storing at dt\n",
    "dt = dt_grid.best_estimator_    "
   ]
  },
  {
   "cell_type": "code",
   "execution_count": 406,
   "id": "e52cb70e-1a95-4dd4-b684-a07fe3d8ce28",
   "metadata": {},
   "outputs": [
    {
     "data": {
      "text/plain": [
       "array([0., 0., 0., 0., 0., 0., 0., 0., 0., 1., 0., 0.])"
      ]
     },
     "execution_count": 406,
     "metadata": {},
     "output_type": "execute_result"
    }
   ],
   "source": [
    "dt.feature_importances_"
   ]
  },
  {
   "cell_type": "code",
   "execution_count": 407,
   "id": "afe90b19-c952-4472-9d69-068b7a7ae620",
   "metadata": {},
   "outputs": [],
   "source": [
    "dt_fi = dt.feature_importances_"
   ]
  },
  {
   "cell_type": "code",
   "execution_count": 410,
   "id": "f94ef788-9b32-4d34-8682-b5e869f0cfd3",
   "metadata": {},
   "outputs": [
    {
     "data": {
      "text/plain": [
       "[(0, 0.0),\n",
       " (1, 0.0),\n",
       " (2, 0.0),\n",
       " (3, 0.0),\n",
       " (4, 0.0),\n",
       " (5, 0.0),\n",
       " (6, 0.0),\n",
       " (7, 0.0),\n",
       " (8, 0.0),\n",
       " (9, 1.0),\n",
       " (10, 0.0),\n",
       " (11, 0.0)]"
      ]
     },
     "execution_count": 410,
     "metadata": {},
     "output_type": "execute_result"
    }
   ],
   "source": [
    "#  only index number 9 is important\n",
    "list(enumerate(dt_fi))"
   ]
  },
  {
   "cell_type": "code",
   "execution_count": 399,
   "id": "0c34d793-060b-4947-85c2-9274e7d5ffbf",
   "metadata": {},
   "outputs": [
    {
     "data": {
      "text/html": [
       "<div>\n",
       "<style scoped>\n",
       "    .dataframe tbody tr th:only-of-type {\n",
       "        vertical-align: middle;\n",
       "    }\n",
       "\n",
       "    .dataframe tbody tr th {\n",
       "        vertical-align: top;\n",
       "    }\n",
       "\n",
       "    .dataframe thead th {\n",
       "        text-align: right;\n",
       "    }\n",
       "</style>\n",
       "<table border=\"1\" class=\"dataframe\">\n",
       "  <thead>\n",
       "    <tr style=\"text-align: right;\">\n",
       "      <th></th>\n",
       "      <th>Gender</th>\n",
       "      <th>Age (months)</th>\n",
       "      <th>Vaccine status</th>\n",
       "      <th>Weight(kg)</th>\n",
       "      <th>Death Rate(%)</th>\n",
       "      <th>Sale (in lakhs)</th>\n",
       "      <th>Profit (%)</th>\n",
       "      <th>Risk (%)</th>\n",
       "      <th>Collection_Amount (in lakhs)</th>\n",
       "      <th>Reload_History (per month)</th>\n",
       "      <th>Sale_Area</th>\n",
       "      <th>Sale (%)</th>\n",
       "    </tr>\n",
       "  </thead>\n",
       "  <tbody>\n",
       "    <tr>\n",
       "      <th>165</th>\n",
       "      <td>1</td>\n",
       "      <td>5</td>\n",
       "      <td>1</td>\n",
       "      <td>9</td>\n",
       "      <td>12.0</td>\n",
       "      <td>98</td>\n",
       "      <td>90</td>\n",
       "      <td>100</td>\n",
       "      <td>4</td>\n",
       "      <td>1</td>\n",
       "      <td>1</td>\n",
       "      <td>98</td>\n",
       "    </tr>\n",
       "    <tr>\n",
       "      <th>32</th>\n",
       "      <td>1</td>\n",
       "      <td>0</td>\n",
       "      <td>1</td>\n",
       "      <td>0</td>\n",
       "      <td>15.0</td>\n",
       "      <td>2</td>\n",
       "      <td>86</td>\n",
       "      <td>300</td>\n",
       "      <td>2</td>\n",
       "      <td>1</td>\n",
       "      <td>0</td>\n",
       "      <td>2</td>\n",
       "    </tr>\n",
       "    <tr>\n",
       "      <th>314</th>\n",
       "      <td>1</td>\n",
       "      <td>9</td>\n",
       "      <td>1</td>\n",
       "      <td>3</td>\n",
       "      <td>6.0</td>\n",
       "      <td>93</td>\n",
       "      <td>180</td>\n",
       "      <td>65</td>\n",
       "      <td>4</td>\n",
       "      <td>1</td>\n",
       "      <td>2</td>\n",
       "      <td>93</td>\n",
       "    </tr>\n",
       "    <tr>\n",
       "      <th>601</th>\n",
       "      <td>1</td>\n",
       "      <td>0</td>\n",
       "      <td>0</td>\n",
       "      <td>0</td>\n",
       "      <td>15.0</td>\n",
       "      <td>2</td>\n",
       "      <td>86</td>\n",
       "      <td>100</td>\n",
       "      <td>2</td>\n",
       "      <td>0</td>\n",
       "      <td>0</td>\n",
       "      <td>2</td>\n",
       "    </tr>\n",
       "    <tr>\n",
       "      <th>142</th>\n",
       "      <td>1</td>\n",
       "      <td>2</td>\n",
       "      <td>1</td>\n",
       "      <td>0</td>\n",
       "      <td>15.0</td>\n",
       "      <td>2</td>\n",
       "      <td>86</td>\n",
       "      <td>300</td>\n",
       "      <td>2</td>\n",
       "      <td>1</td>\n",
       "      <td>1</td>\n",
       "      <td>2</td>\n",
       "    </tr>\n",
       "    <tr>\n",
       "      <th>...</th>\n",
       "      <td>...</td>\n",
       "      <td>...</td>\n",
       "      <td>...</td>\n",
       "      <td>...</td>\n",
       "      <td>...</td>\n",
       "      <td>...</td>\n",
       "      <td>...</td>\n",
       "      <td>...</td>\n",
       "      <td>...</td>\n",
       "      <td>...</td>\n",
       "      <td>...</td>\n",
       "      <td>...</td>\n",
       "    </tr>\n",
       "    <tr>\n",
       "      <th>184</th>\n",
       "      <td>1</td>\n",
       "      <td>4</td>\n",
       "      <td>1</td>\n",
       "      <td>9</td>\n",
       "      <td>12.0</td>\n",
       "      <td>98</td>\n",
       "      <td>90</td>\n",
       "      <td>100</td>\n",
       "      <td>2</td>\n",
       "      <td>1</td>\n",
       "      <td>0</td>\n",
       "      <td>98</td>\n",
       "    </tr>\n",
       "    <tr>\n",
       "      <th>327</th>\n",
       "      <td>1</td>\n",
       "      <td>8</td>\n",
       "      <td>1</td>\n",
       "      <td>1</td>\n",
       "      <td>6.0</td>\n",
       "      <td>98</td>\n",
       "      <td>180</td>\n",
       "      <td>65</td>\n",
       "      <td>4</td>\n",
       "      <td>0</td>\n",
       "      <td>2</td>\n",
       "      <td>98</td>\n",
       "    </tr>\n",
       "    <tr>\n",
       "      <th>296</th>\n",
       "      <td>1</td>\n",
       "      <td>1</td>\n",
       "      <td>1</td>\n",
       "      <td>0</td>\n",
       "      <td>15.0</td>\n",
       "      <td>2</td>\n",
       "      <td>86</td>\n",
       "      <td>300</td>\n",
       "      <td>2</td>\n",
       "      <td>1</td>\n",
       "      <td>1</td>\n",
       "      <td>2</td>\n",
       "    </tr>\n",
       "    <tr>\n",
       "      <th>575</th>\n",
       "      <td>1</td>\n",
       "      <td>8</td>\n",
       "      <td>0</td>\n",
       "      <td>2</td>\n",
       "      <td>6.0</td>\n",
       "      <td>98</td>\n",
       "      <td>180</td>\n",
       "      <td>65</td>\n",
       "      <td>4</td>\n",
       "      <td>1</td>\n",
       "      <td>0</td>\n",
       "      <td>98</td>\n",
       "    </tr>\n",
       "    <tr>\n",
       "      <th>117</th>\n",
       "      <td>0</td>\n",
       "      <td>11</td>\n",
       "      <td>1</td>\n",
       "      <td>3</td>\n",
       "      <td>2.0</td>\n",
       "      <td>69</td>\n",
       "      <td>200</td>\n",
       "      <td>48</td>\n",
       "      <td>4</td>\n",
       "      <td>1</td>\n",
       "      <td>0</td>\n",
       "      <td>69</td>\n",
       "    </tr>\n",
       "  </tbody>\n",
       "</table>\n",
       "<p>492 rows × 12 columns</p>\n",
       "</div>"
      ],
      "text/plain": [
       "     Gender  Age (months)  Vaccine status  Weight(kg)  Death Rate(%)   \\\n",
       "165       1             5               1           9            12.0   \n",
       "32        1             0               1           0            15.0   \n",
       "314       1             9               1           3             6.0   \n",
       "601       1             0               0           0            15.0   \n",
       "142       1             2               1           0            15.0   \n",
       "..      ...           ...             ...         ...             ...   \n",
       "184       1             4               1           9            12.0   \n",
       "327       1             8               1           1             6.0   \n",
       "296       1             1               1           0            15.0   \n",
       "575       1             8               0           2             6.0   \n",
       "117       0            11               1           3             2.0   \n",
       "\n",
       "     Sale (in lakhs)  Profit (%)  Risk (%)  Collection_Amount (in lakhs)  \\\n",
       "165               98          90       100                             4   \n",
       "32                 2          86       300                             2   \n",
       "314               93         180        65                             4   \n",
       "601                2          86       100                             2   \n",
       "142                2          86       300                             2   \n",
       "..               ...         ...       ...                           ...   \n",
       "184               98          90       100                             2   \n",
       "327               98         180        65                             4   \n",
       "296                2          86       300                             2   \n",
       "575               98         180        65                             4   \n",
       "117               69         200        48                             4   \n",
       "\n",
       "     Reload_History (per month)  Sale_Area  Sale (%)  \n",
       "165                           1          1        98  \n",
       "32                            1          0         2  \n",
       "314                           1          2        93  \n",
       "601                           0          0         2  \n",
       "142                           1          1         2  \n",
       "..                          ...        ...       ...  \n",
       "184                           1          0        98  \n",
       "327                           0          2        98  \n",
       "296                           1          1         2  \n",
       "575                           1          0        98  \n",
       "117                           1          0        69  \n",
       "\n",
       "[492 rows x 12 columns]"
      ]
     },
     "execution_count": 399,
     "metadata": {},
     "output_type": "execute_result"
    }
   ],
   "source": [
    "X_train"
   ]
  },
  {
   "cell_type": "code",
   "execution_count": 411,
   "id": "1358818f-5ebe-41c2-8aa7-be75c5e8f722",
   "metadata": {},
   "outputs": [],
   "source": [
    "X_train_dt = X_train.iloc[:,index]"
   ]
  },
  {
   "cell_type": "code",
   "execution_count": 413,
   "id": "b80413ec-2cc4-4378-aa98-692b980858e8",
   "metadata": {},
   "outputs": [
    {
     "data": {
      "text/html": [
       "<div>\n",
       "<style scoped>\n",
       "    .dataframe tbody tr th:only-of-type {\n",
       "        vertical-align: middle;\n",
       "    }\n",
       "\n",
       "    .dataframe tbody tr th {\n",
       "        vertical-align: top;\n",
       "    }\n",
       "\n",
       "    .dataframe thead th {\n",
       "        text-align: right;\n",
       "    }\n",
       "</style>\n",
       "<table border=\"1\" class=\"dataframe\">\n",
       "  <thead>\n",
       "    <tr style=\"text-align: right;\">\n",
       "      <th></th>\n",
       "      <th>Reload_History (per month)</th>\n",
       "    </tr>\n",
       "  </thead>\n",
       "  <tbody>\n",
       "    <tr>\n",
       "      <th>165</th>\n",
       "      <td>1</td>\n",
       "    </tr>\n",
       "    <tr>\n",
       "      <th>32</th>\n",
       "      <td>1</td>\n",
       "    </tr>\n",
       "    <tr>\n",
       "      <th>314</th>\n",
       "      <td>1</td>\n",
       "    </tr>\n",
       "    <tr>\n",
       "      <th>601</th>\n",
       "      <td>0</td>\n",
       "    </tr>\n",
       "    <tr>\n",
       "      <th>142</th>\n",
       "      <td>1</td>\n",
       "    </tr>\n",
       "    <tr>\n",
       "      <th>...</th>\n",
       "      <td>...</td>\n",
       "    </tr>\n",
       "    <tr>\n",
       "      <th>184</th>\n",
       "      <td>1</td>\n",
       "    </tr>\n",
       "    <tr>\n",
       "      <th>327</th>\n",
       "      <td>0</td>\n",
       "    </tr>\n",
       "    <tr>\n",
       "      <th>296</th>\n",
       "      <td>1</td>\n",
       "    </tr>\n",
       "    <tr>\n",
       "      <th>575</th>\n",
       "      <td>1</td>\n",
       "    </tr>\n",
       "    <tr>\n",
       "      <th>117</th>\n",
       "      <td>1</td>\n",
       "    </tr>\n",
       "  </tbody>\n",
       "</table>\n",
       "<p>492 rows × 1 columns</p>\n",
       "</div>"
      ],
      "text/plain": [
       "     Reload_History (per month)\n",
       "165                           1\n",
       "32                            1\n",
       "314                           1\n",
       "601                           0\n",
       "142                           1\n",
       "..                          ...\n",
       "184                           1\n",
       "327                           0\n",
       "296                           1\n",
       "575                           1\n",
       "117                           1\n",
       "\n",
       "[492 rows x 1 columns]"
      ]
     },
     "execution_count": 413,
     "metadata": {},
     "output_type": "execute_result"
    }
   ],
   "source": [
    "X_train_dt   # showing only the important column "
   ]
  },
  {
   "cell_type": "code",
   "execution_count": 422,
   "id": "3aef0ed0-4784-45c3-9f50-f1fee34714ce",
   "metadata": {},
   "outputs": [
    {
     "name": "stdout",
     "output_type": "stream",
     "text": [
      "Train Accuracy : 0.8211382113821138\n",
      "Cross validation score : 0.8211502782931355\n",
      "Test Accuracy : 0.7723577235772358\n"
     ]
    }
   ],
   "source": [
    "from sklearn.tree import DecisionTreeClassifier\n",
    "estimator = DecisionTreeClassifier(random_state=rs)\n",
    "param_grid = {\"criterion\":[\"gini\",\"entropy\"],\n",
    "              \"max_depth\":list(range(1,16))}\n",
    "\n",
    "\n",
    "from sklearn.model_selection import GridSearchCV\n",
    "dt_grid = GridSearchCV(estimator,param_grid, scoring='accuracy',cv=5)\n",
    "dt_grid.fit(X_train,y_train)\n",
    "\n",
    "\n",
    "dt = dt_grid.best_estimator_\n",
    "dt_fi = dt.feature_importances_\n",
    "\n",
    "#identify the features where the feature importance is >0.\n",
    "\n",
    "index =[i for i,x in enumerate(dt_fi) if x >0]\n",
    "\n",
    "#create new dataset with important features\n",
    "\n",
    "X_train_dt = X_train.iloc[:,index]\n",
    "X_test_dt = X_test.iloc[:,index]\n",
    "\n",
    "# train with best model & with important features\n",
    "\n",
    "dt.fit(X_train_dt,y_train)\n",
    "\n",
    "ypred_train = dt.predict(X_train_dt)\n",
    "ypred_test = dt.predict(X_test_dt)\n",
    "\n",
    "#Evaluate the best model\n",
    "\n",
    "print(\"Train Accuracy :\", accuracy_score(y_train,ypred_train))\n",
    "print(\"Cross validation score :\", cross_val_score(svm_model,X_train,y_train,cv=5,scoring=\"accuracy\").mean())\n",
    "print(\"Test Accuracy :\", accuracy_score(y_test,ypred_test))"
   ]
  },
  {
   "cell_type": "code",
   "execution_count": 423,
   "id": "27bb62b4-7b64-4e57-9a08-0eb1805c4439",
   "metadata": {},
   "outputs": [
    {
     "data": {
      "text/html": [
       "<style>#sk-container-id-8 {color: black;}#sk-container-id-8 pre{padding: 0;}#sk-container-id-8 div.sk-toggleable {background-color: white;}#sk-container-id-8 label.sk-toggleable__label {cursor: pointer;display: block;width: 100%;margin-bottom: 0;padding: 0.3em;box-sizing: border-box;text-align: center;}#sk-container-id-8 label.sk-toggleable__label-arrow:before {content: \"▸\";float: left;margin-right: 0.25em;color: #696969;}#sk-container-id-8 label.sk-toggleable__label-arrow:hover:before {color: black;}#sk-container-id-8 div.sk-estimator:hover label.sk-toggleable__label-arrow:before {color: black;}#sk-container-id-8 div.sk-toggleable__content {max-height: 0;max-width: 0;overflow: hidden;text-align: left;background-color: #f0f8ff;}#sk-container-id-8 div.sk-toggleable__content pre {margin: 0.2em;color: black;border-radius: 0.25em;background-color: #f0f8ff;}#sk-container-id-8 input.sk-toggleable__control:checked~div.sk-toggleable__content {max-height: 200px;max-width: 100%;overflow: auto;}#sk-container-id-8 input.sk-toggleable__control:checked~label.sk-toggleable__label-arrow:before {content: \"▾\";}#sk-container-id-8 div.sk-estimator input.sk-toggleable__control:checked~label.sk-toggleable__label {background-color: #d4ebff;}#sk-container-id-8 div.sk-label input.sk-toggleable__control:checked~label.sk-toggleable__label {background-color: #d4ebff;}#sk-container-id-8 input.sk-hidden--visually {border: 0;clip: rect(1px 1px 1px 1px);clip: rect(1px, 1px, 1px, 1px);height: 1px;margin: -1px;overflow: hidden;padding: 0;position: absolute;width: 1px;}#sk-container-id-8 div.sk-estimator {font-family: monospace;background-color: #f0f8ff;border: 1px dotted black;border-radius: 0.25em;box-sizing: border-box;margin-bottom: 0.5em;}#sk-container-id-8 div.sk-estimator:hover {background-color: #d4ebff;}#sk-container-id-8 div.sk-parallel-item::after {content: \"\";width: 100%;border-bottom: 1px solid gray;flex-grow: 1;}#sk-container-id-8 div.sk-label:hover label.sk-toggleable__label {background-color: #d4ebff;}#sk-container-id-8 div.sk-serial::before {content: \"\";position: absolute;border-left: 1px solid gray;box-sizing: border-box;top: 0;bottom: 0;left: 50%;z-index: 0;}#sk-container-id-8 div.sk-serial {display: flex;flex-direction: column;align-items: center;background-color: white;padding-right: 0.2em;padding-left: 0.2em;position: relative;}#sk-container-id-8 div.sk-item {position: relative;z-index: 1;}#sk-container-id-8 div.sk-parallel {display: flex;align-items: stretch;justify-content: center;background-color: white;position: relative;}#sk-container-id-8 div.sk-item::before, #sk-container-id-8 div.sk-parallel-item::before {content: \"\";position: absolute;border-left: 1px solid gray;box-sizing: border-box;top: 0;bottom: 0;left: 50%;z-index: -1;}#sk-container-id-8 div.sk-parallel-item {display: flex;flex-direction: column;z-index: 1;position: relative;background-color: white;}#sk-container-id-8 div.sk-parallel-item:first-child::after {align-self: flex-end;width: 50%;}#sk-container-id-8 div.sk-parallel-item:last-child::after {align-self: flex-start;width: 50%;}#sk-container-id-8 div.sk-parallel-item:only-child::after {width: 0;}#sk-container-id-8 div.sk-dashed-wrapped {border: 1px dashed gray;margin: 0 0.4em 0.5em 0.4em;box-sizing: border-box;padding-bottom: 0.4em;background-color: white;}#sk-container-id-8 div.sk-label label {font-family: monospace;font-weight: bold;display: inline-block;line-height: 1.2em;}#sk-container-id-8 div.sk-label-container {text-align: center;}#sk-container-id-8 div.sk-container {/* jupyter's `normalize.less` sets `[hidden] { display: none; }` but bootstrap.min.css set `[hidden] { display: none !important; }` so we also need the `!important` here to be able to override the default hidden behavior on the sphinx rendered scikit-learn.org. See: https://github.com/scikit-learn/scikit-learn/issues/21755 */display: inline-block !important;position: relative;}#sk-container-id-8 div.sk-text-repr-fallback {display: none;}</style><div id=\"sk-container-id-8\" class=\"sk-top-container\"><div class=\"sk-text-repr-fallback\"><pre>DecisionTreeClassifier(max_depth=1, random_state=65)</pre><b>In a Jupyter environment, please rerun this cell to show the HTML representation or trust the notebook. <br />On GitHub, the HTML representation is unable to render, please try loading this page with nbviewer.org.</b></div><div class=\"sk-container\" hidden><div class=\"sk-item\"><div class=\"sk-estimator sk-toggleable\"><input class=\"sk-toggleable__control sk-hidden--visually\" id=\"sk-estimator-id-14\" type=\"checkbox\" checked><label for=\"sk-estimator-id-14\" class=\"sk-toggleable__label sk-toggleable__label-arrow\">DecisionTreeClassifier</label><div class=\"sk-toggleable__content\"><pre>DecisionTreeClassifier(max_depth=1, random_state=65)</pre></div></div></div></div></div>"
      ],
      "text/plain": [
       "DecisionTreeClassifier(max_depth=1, random_state=65)"
      ]
     },
     "execution_count": 423,
     "metadata": {},
     "output_type": "execute_result"
    }
   ],
   "source": [
    "dt_grid.best_estimator_"
   ]
  },
  {
   "cell_type": "code",
   "execution_count": 424,
   "id": "2a90ed7d-55ba-4f87-9ef2-7876af35caf4",
   "metadata": {},
   "outputs": [
    {
     "data": {
      "text/plain": [
       "array([1.])"
      ]
     },
     "execution_count": 424,
     "metadata": {},
     "output_type": "execute_result"
    }
   ],
   "source": [
    "# future importances\n",
    "dt.feature_importances_"
   ]
  },
  {
   "cell_type": "markdown",
   "id": "e4e80518-fdd3-43dc-baaf-5e89e4ed82b6",
   "metadata": {},
   "source": [
    "### 5. Random Forest Classifier\n",
    "1. Apply hyper parametr tuning and identify the best model\r\n",
    "2. using the best model - identify importance of each feature\r\n",
    "3. From features idenitfy the importance features where the feature importance value is > 0.\r\n"
   ]
  },
  {
   "cell_type": "code",
   "execution_count": 426,
   "id": "fe3e2e32-0785-4a4b-b745-c6cb229582da",
   "metadata": {},
   "outputs": [
    {
     "name": "stdout",
     "output_type": "stream",
     "text": [
      "Train Accuracy : 0.823170731707317\n",
      "Cross validation score : 0.8211502782931355\n",
      "Test Accuracy : 0.7723577235772358\n"
     ]
    }
   ],
   "source": [
    "from sklearn.ensemble import RandomForestClassifier\n",
    "estimator = RandomForestClassifier(random_state=rs)\n",
    "param_grid = {\"criterion\":[\"gini\",\"entropy\"],\n",
    "              \"max_depth\":list(range(1,16))}\n",
    "\n",
    "\n",
    "from sklearn.model_selection import GridSearchCV\n",
    "dt_grid = GridSearchCV(estimator,param_grid, scoring='accuracy',cv=5)\n",
    "dt_grid.fit(X_train,y_train)\n",
    "\n",
    "\n",
    "dt = dt_grid.best_estimator_\n",
    "dt_fi = dt.feature_importances_\n",
    "\n",
    "#identify the features where the feature importance is >0.\n",
    "\n",
    "index =[i for i,x in enumerate(dt_fi) if x >0]\n",
    "\n",
    "#create new dataset with important features\n",
    "\n",
    "X_train_dt = X_train.iloc[:,index]\n",
    "X_test_dt = X_test.iloc[:,index]\n",
    "\n",
    "# train with best model & with important features\n",
    "\n",
    "dt.fit(X_train_dt,y_train)\n",
    "\n",
    "ypred_train = dt.predict(X_train_dt)\n",
    "ypred_test = dt.predict(X_test_dt)\n",
    "\n",
    "#Evaluate the best model\n",
    "\n",
    "print(\"Train Accuracy :\", accuracy_score(y_train,ypred_train))\n",
    "print(\"Cross validation score :\", cross_val_score(svm_model,X_train,y_train,cv=5,scoring=\"accuracy\").mean())\n",
    "print(\"Test Accuracy :\", accuracy_score(y_test,ypred_test))"
   ]
  },
  {
   "cell_type": "markdown",
   "id": "0846c871-d974-4bd6-b015-c2e362afe68e",
   "metadata": {},
   "source": [
    "### 6. AdaBoost Classifier"
   ]
  },
  {
   "cell_type": "code",
   "execution_count": 429,
   "id": "ba731cd1-8f7f-4cde-a83e-55f9108f5220",
   "metadata": {},
   "outputs": [
    {
     "name": "stdout",
     "output_type": "stream",
     "text": [
      "Train Accuracy : 0.8211382113821138\n",
      "Cross validation score : 0.8211502782931355\n",
      "Test Accuracy : 0.7723577235772358\n"
     ]
    }
   ],
   "source": [
    "from sklearn.ensemble import AdaBoostClassifier\n",
    "estimator = AdaBoostClassifier(random_state=rs)\n",
    "param_grid = {\"n_estimators\":list(range(1,51))}\n",
    "\n",
    "from sklearn.model_selection import GridSearchCV\n",
    "ab_grid = GridSearchCV(estimator,param_grid, scoring='accuracy',cv=5)\n",
    "ab_grid.fit(X_train,y_train)\n",
    "\n",
    "\n",
    "ab = ab_grid.best_estimator_\n",
    "ab_fi = ab.feature_importances_\n",
    "\n",
    "#identify the features where the feature importance is >0.\n",
    "\n",
    "index =[i for i,x in enumerate(ab_fi) if x >0]\n",
    "\n",
    "#create new dataset with important features\n",
    "\n",
    "X_train_ab = X_train.iloc[:,index]\n",
    "X_test_ab = X_test.iloc[:,index]\n",
    "\n",
    "# train with best model & with important features\n",
    "\n",
    "ab.fit(X_train_ab,y_train)\n",
    "\n",
    "ypred_train = ab.predict(X_train_ab)\n",
    "ypred_test = ab.predict(X_test_ab)\n",
    "\n",
    "#Evaluate the best model\n",
    "\n",
    "print(\"Train Accuracy :\", accuracy_score(y_train,ypred_train))\n",
    "print(\"Cross validation score :\", cross_val_score(ab,X_train_ab,y_train,cv=5,scoring=\"accuracy\").mean())\n",
    "print(\"Test Accuracy :\", accuracy_score(y_test,ypred_test))"
   ]
  },
  {
   "cell_type": "markdown",
   "id": "1f721fca-1de9-42fe-92db-118b35ead0de",
   "metadata": {},
   "source": [
    "### 7. Gradient Boost Classifier"
   ]
  },
  {
   "cell_type": "code",
   "execution_count": 431,
   "id": "b194764d-a84f-49bb-8dd1-35de3575912c",
   "metadata": {},
   "outputs": [
    {
     "name": "stdout",
     "output_type": "stream",
     "text": [
      "Train Accuracy : 0.8434959349593496\n",
      "Cross validation score : 0.8150896722325294\n",
      "Test Accuracy : 0.7479674796747967\n"
     ]
    }
   ],
   "source": [
    "from sklearn.ensemble import GradientBoostingClassifier\n",
    "estimator = GradientBoostingClassifier(random_state=rs)\n",
    "param_grid = {\"n_estimators\":list(range(1,10)),\"learning_rate\":[0.1,0.2,0.3,0.4,0.5,0.6,0.7,0.8,0.9]}\n",
    "         \n",
    "\n",
    "from sklearn.model_selection import GridSearchCV\n",
    "gb_grid = GridSearchCV(estimator,param_grid, scoring='accuracy',cv=5)\n",
    "gb_grid.fit(X_train,y_train)\n",
    "\n",
    "\n",
    "gb = gb_grid.best_estimator_\n",
    "gb_fi = gb.feature_importances_\n",
    "\n",
    "#identify the features where the feature importance is >0.\n",
    "\n",
    "index =[i for i,x in enumerate(gb_fi) if x >0]\n",
    "\n",
    "#create new dataset with important features\n",
    "\n",
    "X_train_gb = X_train.iloc[:,index]\n",
    "X_test_gb = X_test.iloc[:,index]\n",
    "\n",
    "# train with best model & with important features\n",
    "\n",
    "gb.fit(X_train_gb,y_train)\n",
    "\n",
    "ypred_train = gb.predict(X_train_gb)\n",
    "ypred_test = gb.predict(X_test_gb)\n",
    "\n",
    "#Evaluate the best model\n",
    "\n",
    "print(\"Train Accuracy :\", accuracy_score(y_train,ypred_train))\n",
    "print(\"Cross validation score :\", cross_val_score(gb,X_train_gb,y_train,cv=5,scoring=\"accuracy\").mean())\n",
    "print(\"Test Accuracy :\", accuracy_score(y_test,ypred_test))"
   ]
  },
  {
   "cell_type": "markdown",
   "id": "e2ad3065-2bbb-40d9-8e50-2e45fdcccb25",
   "metadata": {},
   "source": [
    "### 8. XGBoost Classifier"
   ]
  },
  {
   "cell_type": "code",
   "execution_count": 434,
   "id": "f4b8803e-75da-4943-9b7f-7c2879c9d091",
   "metadata": {},
   "outputs": [
    {
     "name": "stdout",
     "output_type": "stream",
     "text": [
      "Train Accuracy : 0.8211382113821138\n",
      "Cross validation score : 0.8191300762729334\n",
      "Test Accuracy : 0.7804878048780488\n"
     ]
    }
   ],
   "source": [
    "from xgboost import XGBClassifier\n",
    "estimator = XGBClassifier(random_state=rs)\n",
    "param_grid = {\"n_estimators\":[10,20,40,100],'max_depth':[3,4,5],'gamma':[0,0.15,0.3,0.5,1]}\n",
    "                      \n",
    "\n",
    "from sklearn.model_selection import GridSearchCV\n",
    "xgb_grid = GridSearchCV(estimator,param_grid, scoring='accuracy',cv=5)\n",
    "xgb_grid.fit(X_train,y_train)\n",
    "\n",
    "\n",
    "xgb = xgb_grid.best_estimator_\n",
    "xgb_fi = xgb.feature_importances_\n",
    "\n",
    "#identify the features where the feature importance is >0.\n",
    "\n",
    "index =[i for i,x in enumerate(xgb_fi) if x >0]\n",
    "\n",
    "#create new dataset with important features\n",
    "\n",
    "X_train_xgb = X_train.iloc[:,index]\n",
    "X_test_xgb = X_test.iloc[:,index]\n",
    "\n",
    "# train with best model & with important features\n",
    "\n",
    "xgb.fit(X_train_xgb,y_train)\n",
    "\n",
    "ypred_train = xgb.predict(X_train_xgb)\n",
    "ypred_test = xgb.predict(X_test_xgb)\n",
    "\n",
    "#Evaluate the best model\n",
    "\n",
    "print(\"Train Accuracy :\", accuracy_score(y_train,ypred_train))\n",
    "print(\"Cross validation score :\", cross_val_score(xgb,X_train_xgb,y_train,cv=5,scoring=\"accuracy\").mean())\n",
    "print(\"Test Accuracy :\", accuracy_score(y_test,ypred_test))"
   ]
  },
  {
   "cell_type": "markdown",
   "id": "c7424717-387f-4d0a-ad4c-69bda54d593c",
   "metadata": {},
   "source": [
    "### Find the best model\n",
    "Decision Tree Classifier looks good considering its features and accuracies \n",
    "\n",
    "Train Accuracy : 0.8211382113821138\r\n",
    "Cross validation score : 0.8211502782931355\r\n",
    "Test Accuracy : 0.7723577235772358"
   ]
  },
  {
   "cell_type": "code",
   "execution_count": null,
   "id": "8f24176d-c1dd-4ac5-8a5a-895f30318a71",
   "metadata": {},
   "outputs": [],
   "source": []
  },
  {
   "cell_type": "code",
   "execution_count": null,
   "id": "d341f6d1-c841-4c5a-bd90-14116de677f1",
   "metadata": {},
   "outputs": [],
   "source": []
  }
 ],
 "metadata": {
  "kernelspec": {
   "display_name": "Python 3 (ipykernel)",
   "language": "python",
   "name": "python3"
  },
  "language_info": {
   "codemirror_mode": {
    "name": "ipython",
    "version": 3
   },
   "file_extension": ".py",
   "mimetype": "text/x-python",
   "name": "python",
   "nbconvert_exporter": "python",
   "pygments_lexer": "ipython3",
   "version": "3.11.5"
  }
 },
 "nbformat": 4,
 "nbformat_minor": 5
}
